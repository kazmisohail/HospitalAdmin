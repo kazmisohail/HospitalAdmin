{
 "cells": [
  {
   "cell_type": "code",
   "execution_count": 1,
   "metadata": {
    "collapsed": true,
    "pycharm": {
     "name": "#%%\n"
    }
   },
   "outputs": [],
   "source": [
    "import pandas as pd\n",
    "from debugpy._vendored.pydevd._pydev_bundle.pydev_log import critical"
   ]
  },
  {
   "cell_type": "markdown",
   "source": [
    "Loading SSDP FLOOD dataset"
   ],
   "metadata": {
    "collapsed": false,
    "pycharm": {
     "name": "#%% md\n"
    }
   }
  },
  {
   "cell_type": "code",
   "execution_count": 3,
   "outputs": [
    {
     "data": {
      "text/plain": "                 0           1             2             3           4    \\\n0           1.000000  209.000000  0.000000e+00      1.000000  209.000000   \n1           1.997162  830.381872  3.850195e+05      1.998296  830.029123   \n2           2.996940  586.005354  3.758057e+05      2.998163  585.869927   \n3           3.994740  802.288440  4.218196e+05      3.996842  802.073133   \n4           4.994129  661.265167  4.167900e+05      4.996476  661.159177   \n...              ...         ...           ...           ...         ...   \n4077261  7430.838735  136.000000  3.637979e-11  12386.459998  136.000000   \n4077262  7430.862528  136.000000  3.637979e-11  12386.483629  136.000000   \n4077263  7430.984547  136.000000  3.637979e-11  12386.605506  136.000000   \n4077264  7430.105886  136.000000  3.637979e-11  12385.726502  136.000000   \n4077265  7431.081328  136.000000  3.637979e-11  12386.701940  136.000000   \n\n                  5             6           7             8              9    \\\n0        0.000000e+00      1.000000  209.000000  0.000000e+00       1.000000   \n1        3.850200e+05      1.999432  829.676374  3.850202e+05       1.999943   \n2        3.757193e+05      2.999387  585.734436  3.756328e+05       2.999939   \n3        4.217991e+05      3.998947  801.857734  4.217785e+05       3.999895   \n4        4.167368e+05      4.998825  661.053084  4.166835e+05       4.999882   \n...               ...           ...         ...           ...            ...   \n4077261  8.731149e-11  37157.800970  136.000000  1.928129e-10  354099.428872   \n4077262  8.731149e-11  37157.824617  136.000000  1.928129e-10  354099.498434   \n4077263  8.731149e-11  37157.946511  136.000000  2.037268e-10  354099.661625   \n4077264  8.731149e-11  37157.067507  136.000000  2.000888e-10  354098.870972   \n4077265  8.731149e-11  37158.042945  136.000000  1.891749e-10  354099.847565   \n\n         ...           105  106  107        108          109        110  \\\n0        ...  0.000000e+00  0.0  0.0   1.000000   209.000000   0.000000   \n1        ...  0.000000e+00  0.0  0.0   1.000000  1450.000000   0.000000   \n2        ...  3.080250e+03  0.0  0.0   1.999994   153.499836  55.500000   \n3        ...  0.000000e+00  0.0  0.0   1.999998  1450.000000   0.000022   \n4        ...  2.737938e+03  0.0  0.0   2.999991   134.999832  52.325843   \n...      ...           ...  ...  ...        ...          ...        ...   \n4077261  ...  7.275958e-12  0.0  0.0  22.486489   136.000000   0.000000   \n4077262  ...  0.000000e+00  0.0  0.0  26.717578   136.000000   0.000000   \n4077263  ...  3.637979e-12  0.0  0.0  16.136518   136.000000   0.000003   \n4077264  ...  0.000000e+00  0.0  0.0  12.443898   136.000000   0.000003   \n4077265  ...  3.637979e-12  0.0  0.0  15.575927   136.000000   0.000003   \n\n                 111           112  113  114  \n0         209.000000  0.000000e+00  0.0  0.0  \n1        1450.000000  0.000000e+00  0.0  0.0  \n2         153.499836  3.080250e+03  0.0  0.0  \n3        1450.000000  4.656613e-10  0.0  0.0  \n4         134.999832  2.737994e+03  0.0  0.0  \n...              ...           ...  ...  ...  \n4077261   136.000000  0.000000e+00  0.0  0.0  \n4077262   136.000000  0.000000e+00  0.0  0.0  \n4077263   136.000000  1.091394e-11  0.0  0.0  \n4077264   136.000000  7.275958e-12  0.0  0.0  \n4077265   136.000000  7.275958e-12  0.0  0.0  \n\n[4077266 rows x 115 columns]",
      "text/html": "<div>\n<style scoped>\n    .dataframe tbody tr th:only-of-type {\n        vertical-align: middle;\n    }\n\n    .dataframe tbody tr th {\n        vertical-align: top;\n    }\n\n    .dataframe thead th {\n        text-align: right;\n    }\n</style>\n<table border=\"1\" class=\"dataframe\">\n  <thead>\n    <tr style=\"text-align: right;\">\n      <th></th>\n      <th>0</th>\n      <th>1</th>\n      <th>2</th>\n      <th>3</th>\n      <th>4</th>\n      <th>5</th>\n      <th>6</th>\n      <th>7</th>\n      <th>8</th>\n      <th>9</th>\n      <th>...</th>\n      <th>105</th>\n      <th>106</th>\n      <th>107</th>\n      <th>108</th>\n      <th>109</th>\n      <th>110</th>\n      <th>111</th>\n      <th>112</th>\n      <th>113</th>\n      <th>114</th>\n    </tr>\n  </thead>\n  <tbody>\n    <tr>\n      <th>0</th>\n      <td>1.000000</td>\n      <td>209.000000</td>\n      <td>0.000000e+00</td>\n      <td>1.000000</td>\n      <td>209.000000</td>\n      <td>0.000000e+00</td>\n      <td>1.000000</td>\n      <td>209.000000</td>\n      <td>0.000000e+00</td>\n      <td>1.000000</td>\n      <td>...</td>\n      <td>0.000000e+00</td>\n      <td>0.0</td>\n      <td>0.0</td>\n      <td>1.000000</td>\n      <td>209.000000</td>\n      <td>0.000000</td>\n      <td>209.000000</td>\n      <td>0.000000e+00</td>\n      <td>0.0</td>\n      <td>0.0</td>\n    </tr>\n    <tr>\n      <th>1</th>\n      <td>1.997162</td>\n      <td>830.381872</td>\n      <td>3.850195e+05</td>\n      <td>1.998296</td>\n      <td>830.029123</td>\n      <td>3.850200e+05</td>\n      <td>1.999432</td>\n      <td>829.676374</td>\n      <td>3.850202e+05</td>\n      <td>1.999943</td>\n      <td>...</td>\n      <td>0.000000e+00</td>\n      <td>0.0</td>\n      <td>0.0</td>\n      <td>1.000000</td>\n      <td>1450.000000</td>\n      <td>0.000000</td>\n      <td>1450.000000</td>\n      <td>0.000000e+00</td>\n      <td>0.0</td>\n      <td>0.0</td>\n    </tr>\n    <tr>\n      <th>2</th>\n      <td>2.996940</td>\n      <td>586.005354</td>\n      <td>3.758057e+05</td>\n      <td>2.998163</td>\n      <td>585.869927</td>\n      <td>3.757193e+05</td>\n      <td>2.999387</td>\n      <td>585.734436</td>\n      <td>3.756328e+05</td>\n      <td>2.999939</td>\n      <td>...</td>\n      <td>3.080250e+03</td>\n      <td>0.0</td>\n      <td>0.0</td>\n      <td>1.999994</td>\n      <td>153.499836</td>\n      <td>55.500000</td>\n      <td>153.499836</td>\n      <td>3.080250e+03</td>\n      <td>0.0</td>\n      <td>0.0</td>\n    </tr>\n    <tr>\n      <th>3</th>\n      <td>3.994740</td>\n      <td>802.288440</td>\n      <td>4.218196e+05</td>\n      <td>3.996842</td>\n      <td>802.073133</td>\n      <td>4.217991e+05</td>\n      <td>3.998947</td>\n      <td>801.857734</td>\n      <td>4.217785e+05</td>\n      <td>3.999895</td>\n      <td>...</td>\n      <td>0.000000e+00</td>\n      <td>0.0</td>\n      <td>0.0</td>\n      <td>1.999998</td>\n      <td>1450.000000</td>\n      <td>0.000022</td>\n      <td>1450.000000</td>\n      <td>4.656613e-10</td>\n      <td>0.0</td>\n      <td>0.0</td>\n    </tr>\n    <tr>\n      <th>4</th>\n      <td>4.994129</td>\n      <td>661.265167</td>\n      <td>4.167900e+05</td>\n      <td>4.996476</td>\n      <td>661.159177</td>\n      <td>4.167368e+05</td>\n      <td>4.998825</td>\n      <td>661.053084</td>\n      <td>4.166835e+05</td>\n      <td>4.999882</td>\n      <td>...</td>\n      <td>2.737938e+03</td>\n      <td>0.0</td>\n      <td>0.0</td>\n      <td>2.999991</td>\n      <td>134.999832</td>\n      <td>52.325843</td>\n      <td>134.999832</td>\n      <td>2.737994e+03</td>\n      <td>0.0</td>\n      <td>0.0</td>\n    </tr>\n    <tr>\n      <th>...</th>\n      <td>...</td>\n      <td>...</td>\n      <td>...</td>\n      <td>...</td>\n      <td>...</td>\n      <td>...</td>\n      <td>...</td>\n      <td>...</td>\n      <td>...</td>\n      <td>...</td>\n      <td>...</td>\n      <td>...</td>\n      <td>...</td>\n      <td>...</td>\n      <td>...</td>\n      <td>...</td>\n      <td>...</td>\n      <td>...</td>\n      <td>...</td>\n      <td>...</td>\n      <td>...</td>\n    </tr>\n    <tr>\n      <th>4077261</th>\n      <td>7430.838735</td>\n      <td>136.000000</td>\n      <td>3.637979e-11</td>\n      <td>12386.459998</td>\n      <td>136.000000</td>\n      <td>8.731149e-11</td>\n      <td>37157.800970</td>\n      <td>136.000000</td>\n      <td>1.928129e-10</td>\n      <td>354099.428872</td>\n      <td>...</td>\n      <td>7.275958e-12</td>\n      <td>0.0</td>\n      <td>0.0</td>\n      <td>22.486489</td>\n      <td>136.000000</td>\n      <td>0.000000</td>\n      <td>136.000000</td>\n      <td>0.000000e+00</td>\n      <td>0.0</td>\n      <td>0.0</td>\n    </tr>\n    <tr>\n      <th>4077262</th>\n      <td>7430.862528</td>\n      <td>136.000000</td>\n      <td>3.637979e-11</td>\n      <td>12386.483629</td>\n      <td>136.000000</td>\n      <td>8.731149e-11</td>\n      <td>37157.824617</td>\n      <td>136.000000</td>\n      <td>1.928129e-10</td>\n      <td>354099.498434</td>\n      <td>...</td>\n      <td>0.000000e+00</td>\n      <td>0.0</td>\n      <td>0.0</td>\n      <td>26.717578</td>\n      <td>136.000000</td>\n      <td>0.000000</td>\n      <td>136.000000</td>\n      <td>0.000000e+00</td>\n      <td>0.0</td>\n      <td>0.0</td>\n    </tr>\n    <tr>\n      <th>4077263</th>\n      <td>7430.984547</td>\n      <td>136.000000</td>\n      <td>3.637979e-11</td>\n      <td>12386.605506</td>\n      <td>136.000000</td>\n      <td>8.731149e-11</td>\n      <td>37157.946511</td>\n      <td>136.000000</td>\n      <td>2.037268e-10</td>\n      <td>354099.661625</td>\n      <td>...</td>\n      <td>3.637979e-12</td>\n      <td>0.0</td>\n      <td>0.0</td>\n      <td>16.136518</td>\n      <td>136.000000</td>\n      <td>0.000003</td>\n      <td>136.000000</td>\n      <td>1.091394e-11</td>\n      <td>0.0</td>\n      <td>0.0</td>\n    </tr>\n    <tr>\n      <th>4077264</th>\n      <td>7430.105886</td>\n      <td>136.000000</td>\n      <td>3.637979e-11</td>\n      <td>12385.726502</td>\n      <td>136.000000</td>\n      <td>8.731149e-11</td>\n      <td>37157.067507</td>\n      <td>136.000000</td>\n      <td>2.000888e-10</td>\n      <td>354098.870972</td>\n      <td>...</td>\n      <td>0.000000e+00</td>\n      <td>0.0</td>\n      <td>0.0</td>\n      <td>12.443898</td>\n      <td>136.000000</td>\n      <td>0.000003</td>\n      <td>136.000000</td>\n      <td>7.275958e-12</td>\n      <td>0.0</td>\n      <td>0.0</td>\n    </tr>\n    <tr>\n      <th>4077265</th>\n      <td>7431.081328</td>\n      <td>136.000000</td>\n      <td>3.637979e-11</td>\n      <td>12386.701940</td>\n      <td>136.000000</td>\n      <td>8.731149e-11</td>\n      <td>37158.042945</td>\n      <td>136.000000</td>\n      <td>1.891749e-10</td>\n      <td>354099.847565</td>\n      <td>...</td>\n      <td>3.637979e-12</td>\n      <td>0.0</td>\n      <td>0.0</td>\n      <td>15.575927</td>\n      <td>136.000000</td>\n      <td>0.000003</td>\n      <td>136.000000</td>\n      <td>7.275958e-12</td>\n      <td>0.0</td>\n      <td>0.0</td>\n    </tr>\n  </tbody>\n</table>\n<p>4077266 rows × 115 columns</p>\n</div>"
     },
     "execution_count": 3,
     "metadata": {},
     "output_type": "execute_result"
    }
   ],
   "source": [
    "x = pd.read_csv(r'C:/Users/dell/Downloads/KITSUNE DATASET/SSDP Flood/SSDP_Flood_dataset.csv',header=None)\n",
    "x"
   ],
   "metadata": {
    "collapsed": false,
    "pycharm": {
     "name": "#%%\n"
    }
   }
  },
  {
   "cell_type": "markdown",
   "source": [
    "Loading labels of SSDP FLOOD dataset"
   ],
   "metadata": {
    "collapsed": false,
    "pycharm": {
     "name": "#%% md\n"
    }
   }
  },
  {
   "cell_type": "code",
   "execution_count": 4,
   "outputs": [
    {
     "data": {
      "text/plain": "         Unnamed: 0  x\n0                 1  0\n1                 2  0\n2                 3  0\n3                 4  0\n4                 5  0\n...             ... ..\n4077261     4077262  1\n4077262     4077263  1\n4077263     4077264  1\n4077264     4077265  1\n4077265     4077266  1\n\n[4077266 rows x 2 columns]",
      "text/html": "<div>\n<style scoped>\n    .dataframe tbody tr th:only-of-type {\n        vertical-align: middle;\n    }\n\n    .dataframe tbody tr th {\n        vertical-align: top;\n    }\n\n    .dataframe thead th {\n        text-align: right;\n    }\n</style>\n<table border=\"1\" class=\"dataframe\">\n  <thead>\n    <tr style=\"text-align: right;\">\n      <th></th>\n      <th>Unnamed: 0</th>\n      <th>x</th>\n    </tr>\n  </thead>\n  <tbody>\n    <tr>\n      <th>0</th>\n      <td>1</td>\n      <td>0</td>\n    </tr>\n    <tr>\n      <th>1</th>\n      <td>2</td>\n      <td>0</td>\n    </tr>\n    <tr>\n      <th>2</th>\n      <td>3</td>\n      <td>0</td>\n    </tr>\n    <tr>\n      <th>3</th>\n      <td>4</td>\n      <td>0</td>\n    </tr>\n    <tr>\n      <th>4</th>\n      <td>5</td>\n      <td>0</td>\n    </tr>\n    <tr>\n      <th>...</th>\n      <td>...</td>\n      <td>...</td>\n    </tr>\n    <tr>\n      <th>4077261</th>\n      <td>4077262</td>\n      <td>1</td>\n    </tr>\n    <tr>\n      <th>4077262</th>\n      <td>4077263</td>\n      <td>1</td>\n    </tr>\n    <tr>\n      <th>4077263</th>\n      <td>4077264</td>\n      <td>1</td>\n    </tr>\n    <tr>\n      <th>4077264</th>\n      <td>4077265</td>\n      <td>1</td>\n    </tr>\n    <tr>\n      <th>4077265</th>\n      <td>4077266</td>\n      <td>1</td>\n    </tr>\n  </tbody>\n</table>\n<p>4077266 rows × 2 columns</p>\n</div>"
     },
     "execution_count": 4,
     "metadata": {},
     "output_type": "execute_result"
    }
   ],
   "source": [
    "y = pd.read_csv(r'C:/Users/dell/Downloads/KITSUNE DATASET/SSDP Flood/SSDP_Flood_labels.csv')\n",
    "y"
   ],
   "metadata": {
    "collapsed": false,
    "pycharm": {
     "name": "#%%\n"
    }
   }
  },
  {
   "cell_type": "code",
   "execution_count": 5,
   "outputs": [
    {
     "data": {
      "text/plain": "         x\n0        0\n1        0\n2        0\n3        0\n4        0\n...     ..\n4077261  1\n4077262  1\n4077263  1\n4077264  1\n4077265  1\n\n[4077266 rows x 1 columns]",
      "text/html": "<div>\n<style scoped>\n    .dataframe tbody tr th:only-of-type {\n        vertical-align: middle;\n    }\n\n    .dataframe tbody tr th {\n        vertical-align: top;\n    }\n\n    .dataframe thead th {\n        text-align: right;\n    }\n</style>\n<table border=\"1\" class=\"dataframe\">\n  <thead>\n    <tr style=\"text-align: right;\">\n      <th></th>\n      <th>x</th>\n    </tr>\n  </thead>\n  <tbody>\n    <tr>\n      <th>0</th>\n      <td>0</td>\n    </tr>\n    <tr>\n      <th>1</th>\n      <td>0</td>\n    </tr>\n    <tr>\n      <th>2</th>\n      <td>0</td>\n    </tr>\n    <tr>\n      <th>3</th>\n      <td>0</td>\n    </tr>\n    <tr>\n      <th>4</th>\n      <td>0</td>\n    </tr>\n    <tr>\n      <th>...</th>\n      <td>...</td>\n    </tr>\n    <tr>\n      <th>4077261</th>\n      <td>1</td>\n    </tr>\n    <tr>\n      <th>4077262</th>\n      <td>1</td>\n    </tr>\n    <tr>\n      <th>4077263</th>\n      <td>1</td>\n    </tr>\n    <tr>\n      <th>4077264</th>\n      <td>1</td>\n    </tr>\n    <tr>\n      <th>4077265</th>\n      <td>1</td>\n    </tr>\n  </tbody>\n</table>\n<p>4077266 rows × 1 columns</p>\n</div>"
     },
     "execution_count": 5,
     "metadata": {},
     "output_type": "execute_result"
    }
   ],
   "source": [
    "y.drop('Unnamed: 0', inplace=True, axis=1)\n",
    "y"
   ],
   "metadata": {
    "collapsed": false,
    "pycharm": {
     "name": "#%%\n"
    }
   }
  },
  {
   "cell_type": "code",
   "execution_count": 6,
   "outputs": [
    {
     "name": "stdout",
     "output_type": "stream",
     "text": [
      "Number of 0's and 1's in y dataset:\n",
      "0    2637662\n",
      "1    1439604\n",
      "Name: x, dtype: int64\n"
     ]
    }
   ],
   "source": [
    "print(\"Number of 0's and 1's in y dataset:\")\n",
    "print(y['x'].value_counts())"
   ],
   "metadata": {
    "collapsed": false,
    "pycharm": {
     "name": "#%%\n"
    }
   }
  },
  {
   "cell_type": "code",
   "execution_count": 71,
   "outputs": [],
   "source": [
    "import seaborn as sns\n",
    "import matplotlib.pyplot as plt\n",
    "from sklearn.model_selection import train_test_split\n",
    "from sklearn.metrics import classification_report,confusion_matrix,precision_recall_fscore_support\n",
    "from sklearn.tree import DecisionTreeClassifier\n",
    "from sklearn.metrics import roc_auc_score\n",
    "x_train, x_test, y_train, y_test = train_test_split(x, y,train_size = 0.8, test_size = 0.2, random_state = 0,stratify = y)"
   ],
   "metadata": {
    "collapsed": false,
    "pycharm": {
     "name": "#%%\n"
    }
   }
  },
  {
   "cell_type": "code",
   "execution_count": 8,
   "outputs": [
    {
     "name": "stdout",
     "output_type": "stream",
     "text": [
      "Number of 0's and 1's in y_train dataset:\n",
      "0    2110129\n",
      "1    1151683\n",
      "Name: x, dtype: int64\n"
     ]
    }
   ],
   "source": [
    "print(\"Number of 0's and 1's in y_train dataset:\")\n",
    "print(y_train['x'].value_counts())"
   ],
   "metadata": {
    "collapsed": false,
    "pycharm": {
     "name": "#%%\n"
    }
   }
  },
  {
   "cell_type": "code",
   "execution_count": 9,
   "outputs": [
    {
     "name": "stdout",
     "output_type": "stream",
     "text": [
      "Number of 0's and 1's in y_test dataset:\n",
      "0    527533\n",
      "1    287921\n",
      "Name: x, dtype: int64\n"
     ]
    }
   ],
   "source": [
    "print(\"Number of 0's and 1's in y_test dataset:\")\n",
    "print(y_test['x'].value_counts())"
   ],
   "metadata": {
    "collapsed": false,
    "pycharm": {
     "name": "#%%\n"
    }
   }
  },
  {
   "cell_type": "code",
   "execution_count": 10,
   "outputs": [
    {
     "data": {
      "text/plain": "DecisionTreeClassifier(random_state=42)",
      "text/html": "<style>#sk-container-id-1 {color: black;background-color: white;}#sk-container-id-1 pre{padding: 0;}#sk-container-id-1 div.sk-toggleable {background-color: white;}#sk-container-id-1 label.sk-toggleable__label {cursor: pointer;display: block;width: 100%;margin-bottom: 0;padding: 0.3em;box-sizing: border-box;text-align: center;}#sk-container-id-1 label.sk-toggleable__label-arrow:before {content: \"▸\";float: left;margin-right: 0.25em;color: #696969;}#sk-container-id-1 label.sk-toggleable__label-arrow:hover:before {color: black;}#sk-container-id-1 div.sk-estimator:hover label.sk-toggleable__label-arrow:before {color: black;}#sk-container-id-1 div.sk-toggleable__content {max-height: 0;max-width: 0;overflow: hidden;text-align: left;background-color: #f0f8ff;}#sk-container-id-1 div.sk-toggleable__content pre {margin: 0.2em;color: black;border-radius: 0.25em;background-color: #f0f8ff;}#sk-container-id-1 input.sk-toggleable__control:checked~div.sk-toggleable__content {max-height: 200px;max-width: 100%;overflow: auto;}#sk-container-id-1 input.sk-toggleable__control:checked~label.sk-toggleable__label-arrow:before {content: \"▾\";}#sk-container-id-1 div.sk-estimator input.sk-toggleable__control:checked~label.sk-toggleable__label {background-color: #d4ebff;}#sk-container-id-1 div.sk-label input.sk-toggleable__control:checked~label.sk-toggleable__label {background-color: #d4ebff;}#sk-container-id-1 input.sk-hidden--visually {border: 0;clip: rect(1px 1px 1px 1px);clip: rect(1px, 1px, 1px, 1px);height: 1px;margin: -1px;overflow: hidden;padding: 0;position: absolute;width: 1px;}#sk-container-id-1 div.sk-estimator {font-family: monospace;background-color: #f0f8ff;border: 1px dotted black;border-radius: 0.25em;box-sizing: border-box;margin-bottom: 0.5em;}#sk-container-id-1 div.sk-estimator:hover {background-color: #d4ebff;}#sk-container-id-1 div.sk-parallel-item::after {content: \"\";width: 100%;border-bottom: 1px solid gray;flex-grow: 1;}#sk-container-id-1 div.sk-label:hover label.sk-toggleable__label {background-color: #d4ebff;}#sk-container-id-1 div.sk-serial::before {content: \"\";position: absolute;border-left: 1px solid gray;box-sizing: border-box;top: 0;bottom: 0;left: 50%;z-index: 0;}#sk-container-id-1 div.sk-serial {display: flex;flex-direction: column;align-items: center;background-color: white;padding-right: 0.2em;padding-left: 0.2em;position: relative;}#sk-container-id-1 div.sk-item {position: relative;z-index: 1;}#sk-container-id-1 div.sk-parallel {display: flex;align-items: stretch;justify-content: center;background-color: white;position: relative;}#sk-container-id-1 div.sk-item::before, #sk-container-id-1 div.sk-parallel-item::before {content: \"\";position: absolute;border-left: 1px solid gray;box-sizing: border-box;top: 0;bottom: 0;left: 50%;z-index: -1;}#sk-container-id-1 div.sk-parallel-item {display: flex;flex-direction: column;z-index: 1;position: relative;background-color: white;}#sk-container-id-1 div.sk-parallel-item:first-child::after {align-self: flex-end;width: 50%;}#sk-container-id-1 div.sk-parallel-item:last-child::after {align-self: flex-start;width: 50%;}#sk-container-id-1 div.sk-parallel-item:only-child::after {width: 0;}#sk-container-id-1 div.sk-dashed-wrapped {border: 1px dashed gray;margin: 0 0.4em 0.5em 0.4em;box-sizing: border-box;padding-bottom: 0.4em;background-color: white;}#sk-container-id-1 div.sk-label label {font-family: monospace;font-weight: bold;display: inline-block;line-height: 1.2em;}#sk-container-id-1 div.sk-label-container {text-align: center;}#sk-container-id-1 div.sk-container {/* jupyter's `normalize.less` sets `[hidden] { display: none; }` but bootstrap.min.css set `[hidden] { display: none !important; }` so we also need the `!important` here to be able to override the default hidden behavior on the sphinx rendered scikit-learn.org. See: https://github.com/scikit-learn/scikit-learn/issues/21755 */display: inline-block !important;position: relative;}#sk-container-id-1 div.sk-text-repr-fallback {display: none;}</style><div id=\"sk-container-id-1\" class=\"sk-top-container\"><div class=\"sk-text-repr-fallback\"><pre>DecisionTreeClassifier(random_state=42)</pre><b>In a Jupyter environment, please rerun this cell to show the HTML representation or trust the notebook. <br />On GitHub, the HTML representation is unable to render, please try loading this page with nbviewer.org.</b></div><div class=\"sk-container\" hidden><div class=\"sk-item\"><div class=\"sk-estimator sk-toggleable\"><input class=\"sk-toggleable__control sk-hidden--visually\" id=\"sk-estimator-id-1\" type=\"checkbox\" checked><label for=\"sk-estimator-id-1\" class=\"sk-toggleable__label sk-toggleable__label-arrow\">DecisionTreeClassifier</label><div class=\"sk-toggleable__content\"><pre>DecisionTreeClassifier(random_state=42)</pre></div></div></div></div></div>"
     },
     "execution_count": 10,
     "metadata": {},
     "output_type": "execute_result"
    }
   ],
   "source": [
    "dt = DecisionTreeClassifier(criterion='gini', splitter='best', max_depth=None, min_samples_split=2, min_samples_leaf=1, min_weight_fraction_leaf=0.0, max_features=None, random_state=42, max_leaf_nodes=None, min_impurity_decrease=0.0, class_weight=None, ccp_alpha=0.0)\n",
    "dt.fit(x_train,y_train)"
   ],
   "metadata": {
    "collapsed": false,
    "pycharm": {
     "name": "#%%\n"
    }
   }
  },
  {
   "cell_type": "code",
   "execution_count": 75,
   "outputs": [],
   "source": [
    "y_tr_pred1=dt.predict(x_train)\n",
    "y_tr_predict_prob1=dt.predict_proba(x_train)\n",
    "y_predict1=dt.predict(x_test)\n",
    "y_predict_prob1=dt.predict_proba(x_test)\n",
    "y_true1=y_test\n",
    "aucscore1=roc_auc_score(y_test,y_predict_prob1[:,1])\n",
    "# roc curve for tpr=fpr\n",
    "from sklearn.metrics import roc_curve\n",
    "randomprobs1 = [0 for i in range(len(y_test))]\n",
    "p_fpr1, p_tpr1, _= roc_curve(y_test,randomprobs1, pos_label=1)\n",
    "# roc curve for model\n",
    "fpr1, tpr1, thresh1 = roc_curve(y_test,y_predict_prob1[:,1], pos_label=1)"
   ],
   "metadata": {
    "collapsed": false,
    "pycharm": {
     "name": "#%%\n"
    }
   }
  },
  {
   "cell_type": "code",
   "execution_count": 12,
   "outputs": [
    {
     "name": "stdout",
     "output_type": "stream",
     "text": [
      "\n",
      "TRAINING DATA:\n",
      "              precision    recall  f1-score   support\n",
      "\n",
      "      normal       1.00      1.00      1.00   2110129\n",
      "    malicous       1.00      1.00      1.00   1151683\n",
      "\n",
      "    accuracy                           1.00   3261812\n",
      "   macro avg       1.00      1.00      1.00   3261812\n",
      "weighted avg       1.00      1.00      1.00   3261812\n",
      "\n",
      "1.0\n",
      "\n",
      "TEST DATA:\n",
      "              precision    recall  f1-score   support\n",
      "\n",
      "      normal       1.00      1.00      1.00    527533\n",
      "    malicous       1.00      1.00      1.00    287921\n",
      "\n",
      "    accuracy                           1.00    815454\n",
      "   macro avg       1.00      1.00      1.00    815454\n",
      "weighted avg       1.00      1.00      1.00    815454\n",
      "\n",
      "0.9999975473785155\n"
     ]
    }
   ],
   "source": [
    "from sklearn import metrics\n",
    "print(\"\\nTRAINING DATA:\")\n",
    "print(classification_report(y_train, y_tr_pred1, target_names=['normal', 'malicous']))\n",
    "print(metrics.accuracy_score(y_train, y_tr_pred1))\n",
    "\n",
    "print(\"\\nTEST DATA:\")\n",
    "print(classification_report(y_test, y_predict1, target_names=['normal', 'malicous']))\n",
    "print(metrics.accuracy_score(y_test, y_predict1))"
   ],
   "metadata": {
    "collapsed": false,
    "pycharm": {
     "name": "#%%\n"
    }
   }
  },
  {
   "cell_type": "code",
   "execution_count": 13,
   "outputs": [
    {
     "name": "stdout",
     "output_type": "stream",
     "text": [
      "Log-loss function on training data =  9.99200722162641e-16\n",
      "Log-loss function on testing data =  8.47105450345895e-05\n"
     ]
    }
   ],
   "source": [
    "from sklearn.metrics import log_loss\n",
    "print('Log-loss function on training data = ',log_loss(y_train,y_tr_pred1))\n",
    "print('Log-loss function on testing data = ',log_loss(y_test,y_predict1))"
   ],
   "metadata": {
    "collapsed": false,
    "pycharm": {
     "name": "#%%\n"
    }
   }
  },
  {
   "cell_type": "code",
   "execution_count": 14,
   "outputs": [
    {
     "name": "stdout",
     "output_type": "stream",
     "text": [
      "Number of 0's and 1's in y_train dataset:\n",
      "0    2110129\n",
      "1    1151683\n",
      "Name: x, dtype: int64\n",
      "\n",
      "CONFUSION MATRIX FOR TRAINING SET: \n",
      " [[2110129       0]\n",
      " [      0 1151683]]\n",
      "\n",
      "Number of 0's and 1's in y_test dataset:\n",
      "0    527533\n",
      "1    287921\n",
      "Name: x, dtype: int64\n",
      "\n",
      "CONFUSION MATRIX FOR TESTING SET: \n",
      " [[527533      0]\n",
      " [     2 287919]]\n"
     ]
    }
   ],
   "source": [
    "print(\"Number of 0's and 1's in y_train dataset:\")\n",
    "print(y_train['x'].value_counts())\n",
    "print(\"\\nCONFUSION MATRIX FOR TRAINING SET: \\n {}\".format(confusion_matrix(y_train, y_tr_pred1)))\n",
    "\n",
    "print(\"\\nNumber of 0's and 1's in y_test dataset:\")\n",
    "print(y_test['x'].value_counts())\n",
    "print(\"\\nCONFUSION MATRIX FOR TESTING SET: \\n {}\".format(confusion_matrix(y_test, y_predict1)))"
   ],
   "metadata": {
    "collapsed": false,
    "pycharm": {
     "name": "#%%\n"
    }
   }
  },
  {
   "cell_type": "code",
   "execution_count": 15,
   "outputs": [
    {
     "data": {
      "text/plain": "<Figure size 500x500 with 2 Axes>",
      "image/png": "[encoded data removed]"
     },
     "metadata": {},
     "output_type": "display_data"
    }
   ],
   "source": [
    "cm=confusion_matrix(y_true1,y_predict1)\n",
    "f,ax=plt.subplots(figsize=(5,5))\n",
    "sns.heatmap(cm,annot=True,linewidth=0.5,linecolor=\"red\",fmt=\".0f\",ax=ax)\n",
    "plt.xlabel(\"y_pred\")\n",
    "plt.ylabel(\"y_true\")\n",
    "plt.show()"
   ],
   "metadata": {
    "collapsed": false,
    "pycharm": {
     "name": "#%%\n"
    }
   }
  },
  {
   "cell_type": "markdown",
   "source": [
    "For 70:30 ratio"
   ],
   "metadata": {
    "collapsed": false,
    "pycharm": {
     "name": "#%% md\n"
    }
   }
  },
  {
   "cell_type": "code",
   "execution_count": 76,
   "outputs": [],
   "source": [
    "x_train, x_test, y_train, y_test = train_test_split(x, y,train_size = 0.7, test_size = 0.3, random_state = 0,stratify = y)"
   ],
   "metadata": {
    "collapsed": false,
    "pycharm": {
     "name": "#%%\n"
    }
   }
  },
  {
   "cell_type": "code",
   "execution_count": 16,
   "outputs": [
    {
     "name": "stdout",
     "output_type": "stream",
     "text": [
      "Number of 0's and 1's in y_train dataset:\n",
      "0    1846363\n",
      "1    1007723\n",
      "Name: x, dtype: int64\n"
     ]
    }
   ],
   "source": [
    "print(\"Number of 0's and 1's in y_train dataset:\")\n",
    "print(y_train['x'].value_counts())"
   ],
   "metadata": {
    "collapsed": false,
    "pycharm": {
     "name": "#%%\n"
    }
   }
  },
  {
   "cell_type": "code",
   "execution_count": 17,
   "outputs": [
    {
     "name": "stdout",
     "output_type": "stream",
     "text": [
      "Number of 0's and 1's in y_test dataset:\n",
      "0    791299\n",
      "1    431881\n",
      "Name: x, dtype: int64\n"
     ]
    }
   ],
   "source": [
    "print(\"Number of 0's and 1's in y_test dataset:\")\n",
    "print(y_test['x'].value_counts())"
   ],
   "metadata": {
    "collapsed": false,
    "pycharm": {
     "name": "#%%\n"
    }
   }
  },
  {
   "cell_type": "code",
   "execution_count": 18,
   "outputs": [
    {
     "data": {
      "text/plain": "DecisionTreeClassifier(random_state=42)",
      "text/html": "<style>#sk-container-id-2 {color: black;background-color: white;}#sk-container-id-2 pre{padding: 0;}#sk-container-id-2 div.sk-toggleable {background-color: white;}#sk-container-id-2 label.sk-toggleable__label {cursor: pointer;display: block;width: 100%;margin-bottom: 0;padding: 0.3em;box-sizing: border-box;text-align: center;}#sk-container-id-2 label.sk-toggleable__label-arrow:before {content: \"▸\";float: left;margin-right: 0.25em;color: #696969;}#sk-container-id-2 label.sk-toggleable__label-arrow:hover:before {color: black;}#sk-container-id-2 div.sk-estimator:hover label.sk-toggleable__label-arrow:before {color: black;}#sk-container-id-2 div.sk-toggleable__content {max-height: 0;max-width: 0;overflow: hidden;text-align: left;background-color: #f0f8ff;}#sk-container-id-2 div.sk-toggleable__content pre {margin: 0.2em;color: black;border-radius: 0.25em;background-color: #f0f8ff;}#sk-container-id-2 input.sk-toggleable__control:checked~div.sk-toggleable__content {max-height: 200px;max-width: 100%;overflow: auto;}#sk-container-id-2 input.sk-toggleable__control:checked~label.sk-toggleable__label-arrow:before {content: \"▾\";}#sk-container-id-2 div.sk-estimator input.sk-toggleable__control:checked~label.sk-toggleable__label {background-color: #d4ebff;}#sk-container-id-2 div.sk-label input.sk-toggleable__control:checked~label.sk-toggleable__label {background-color: #d4ebff;}#sk-container-id-2 input.sk-hidden--visually {border: 0;clip: rect(1px 1px 1px 1px);clip: rect(1px, 1px, 1px, 1px);height: 1px;margin: -1px;overflow: hidden;padding: 0;position: absolute;width: 1px;}#sk-container-id-2 div.sk-estimator {font-family: monospace;background-color: #f0f8ff;border: 1px dotted black;border-radius: 0.25em;box-sizing: border-box;margin-bottom: 0.5em;}#sk-container-id-2 div.sk-estimator:hover {background-color: #d4ebff;}#sk-container-id-2 div.sk-parallel-item::after {content: \"\";width: 100%;border-bottom: 1px solid gray;flex-grow: 1;}#sk-container-id-2 div.sk-label:hover label.sk-toggleable__label {background-color: #d4ebff;}#sk-container-id-2 div.sk-serial::before {content: \"\";position: absolute;border-left: 1px solid gray;box-sizing: border-box;top: 0;bottom: 0;left: 50%;z-index: 0;}#sk-container-id-2 div.sk-serial {display: flex;flex-direction: column;align-items: center;background-color: white;padding-right: 0.2em;padding-left: 0.2em;position: relative;}#sk-container-id-2 div.sk-item {position: relative;z-index: 1;}#sk-container-id-2 div.sk-parallel {display: flex;align-items: stretch;justify-content: center;background-color: white;position: relative;}#sk-container-id-2 div.sk-item::before, #sk-container-id-2 div.sk-parallel-item::before {content: \"\";position: absolute;border-left: 1px solid gray;box-sizing: border-box;top: 0;bottom: 0;left: 50%;z-index: -1;}#sk-container-id-2 div.sk-parallel-item {display: flex;flex-direction: column;z-index: 1;position: relative;background-color: white;}#sk-container-id-2 div.sk-parallel-item:first-child::after {align-self: flex-end;width: 50%;}#sk-container-id-2 div.sk-parallel-item:last-child::after {align-self: flex-start;width: 50%;}#sk-container-id-2 div.sk-parallel-item:only-child::after {width: 0;}#sk-container-id-2 div.sk-dashed-wrapped {border: 1px dashed gray;margin: 0 0.4em 0.5em 0.4em;box-sizing: border-box;padding-bottom: 0.4em;background-color: white;}#sk-container-id-2 div.sk-label label {font-family: monospace;font-weight: bold;display: inline-block;line-height: 1.2em;}#sk-container-id-2 div.sk-label-container {text-align: center;}#sk-container-id-2 div.sk-container {/* jupyter's `normalize.less` sets `[hidden] { display: none; }` but bootstrap.min.css set `[hidden] { display: none !important; }` so we also need the `!important` here to be able to override the default hidden behavior on the sphinx rendered scikit-learn.org. See: https://github.com/scikit-learn/scikit-learn/issues/21755 */display: inline-block !important;position: relative;}#sk-container-id-2 div.sk-text-repr-fallback {display: none;}</style><div id=\"sk-container-id-2\" class=\"sk-top-container\"><div class=\"sk-text-repr-fallback\"><pre>DecisionTreeClassifier(random_state=42)</pre><b>In a Jupyter environment, please rerun this cell to show the HTML representation or trust the notebook. <br />On GitHub, the HTML representation is unable to render, please try loading this page with nbviewer.org.</b></div><div class=\"sk-container\" hidden><div class=\"sk-item\"><div class=\"sk-estimator sk-toggleable\"><input class=\"sk-toggleable__control sk-hidden--visually\" id=\"sk-estimator-id-2\" type=\"checkbox\" checked><label for=\"sk-estimator-id-2\" class=\"sk-toggleable__label sk-toggleable__label-arrow\">DecisionTreeClassifier</label><div class=\"sk-toggleable__content\"><pre>DecisionTreeClassifier(random_state=42)</pre></div></div></div></div></div>"
     },
     "execution_count": 18,
     "metadata": {},
     "output_type": "execute_result"
    }
   ],
   "source": [
    "dt = DecisionTreeClassifier(criterion='gini', splitter='best', max_depth=None, min_samples_split=2, min_samples_leaf=1, min_weight_fraction_leaf=0.0, max_features=None, random_state=42, max_leaf_nodes=None, min_impurity_decrease=0.0, class_weight=None, ccp_alpha=0.0)\n",
    "dt.fit(x_train,y_train)"
   ],
   "metadata": {
    "collapsed": false,
    "pycharm": {
     "name": "#%%\n"
    }
   }
  },
  {
   "cell_type": "code",
   "execution_count": 77,
   "outputs": [],
   "source": [
    "y_tr_pred2=dt.predict(x_train)\n",
    "y_tr_predict_prob2=dt.predict_proba(x_train)\n",
    "y_predict2=dt.predict(x_test)\n",
    "y_predict_prob2=dt.predict_proba(x_test)\n",
    "y_true2=y_test\n",
    "aucscore2=roc_auc_score(y_test,y_predict_prob2[:,1])\n",
    "# roc curve for tpr=fpr\n",
    "from sklearn.metrics import roc_curve\n",
    "randomprobs2 = [0 for i in range(len(y_test))]\n",
    "p_fpr2, p_tpr2, _= roc_curve(y_test,randomprobs2, pos_label=1)\n",
    "# roc curve for model\n",
    "fpr2, tpr2, thresh2 = roc_curve(y_test,y_predict_prob2[:,1], pos_label=1)"
   ],
   "metadata": {
    "collapsed": false,
    "pycharm": {
     "name": "#%%\n"
    }
   }
  },
  {
   "cell_type": "code",
   "execution_count": 18,
   "outputs": [
    {
     "name": "stdout",
     "output_type": "stream",
     "text": [
      "\n",
      "TRAINING DATA:\n",
      "              precision    recall  f1-score   support\n",
      "\n",
      "      normal       1.00      1.00      1.00   1846363\n",
      "    malicous       1.00      1.00      1.00   1007723\n",
      "\n",
      "    accuracy                           1.00   2854086\n",
      "   macro avg       1.00      1.00      1.00   2854086\n",
      "weighted avg       1.00      1.00      1.00   2854086\n",
      "\n",
      "1.0\n",
      "\n",
      "TEST DATA:\n",
      "              precision    recall  f1-score   support\n",
      "\n",
      "      normal       1.00      1.00      1.00    791299\n",
      "    malicous       1.00      1.00      1.00    431881\n",
      "\n",
      "    accuracy                           1.00   1223180\n",
      "   macro avg       1.00      1.00      1.00   1223180\n",
      "weighted avg       1.00      1.00      1.00   1223180\n",
      "\n",
      "0.9999983649176736\n"
     ]
    }
   ],
   "source": [
    "from sklearn import metrics\n",
    "print(\"\\nTRAINING DATA:\")\n",
    "print(classification_report(y_train, y_tr_pred2, target_names=['normal', 'malicous']))\n",
    "print(metrics.accuracy_score(y_train, y_tr_pred2))\n",
    "\n",
    "print(\"\\nTEST DATA:\")\n",
    "print(classification_report(y_test, y_predict2, target_names=['normal', 'malicous']))\n",
    "print(metrics.accuracy_score(y_test, y_predict2))"
   ],
   "metadata": {
    "collapsed": false,
    "pycharm": {
     "name": "#%%\n"
    }
   }
  },
  {
   "cell_type": "code",
   "execution_count": 19,
   "outputs": [
    {
     "name": "stdout",
     "output_type": "stream",
     "text": [
      "Log-loss function on training data =  9.99200722162641e-16\n",
      "Log-loss function on testing data =  5.6473742859631095e-05\n"
     ]
    }
   ],
   "source": [
    "from sklearn.metrics import log_loss\n",
    "print('Log-loss function on training data = ',log_loss(y_train,y_tr_pred2))\n",
    "print('Log-loss function on testing data = ',log_loss(y_test,y_predict2))"
   ],
   "metadata": {
    "collapsed": false,
    "pycharm": {
     "name": "#%%\n"
    }
   }
  },
  {
   "cell_type": "code",
   "execution_count": 20,
   "outputs": [
    {
     "name": "stdout",
     "output_type": "stream",
     "text": [
      "Number of 0's and 1's in y_train dataset:\n",
      "0    1846363\n",
      "1    1007723\n",
      "Name: x, dtype: int64\n",
      "\n",
      "CONFUSION MATRIX FOR TRAINING SET: \n",
      " [[1846363       0]\n",
      " [      0 1007723]]\n",
      "\n",
      "Number of 0's and 1's in y_test dataset:\n",
      "0    791299\n",
      "1    431881\n",
      "Name: x, dtype: int64\n",
      "\n",
      "CONFUSION MATRIX FOR TESTING SET: \n",
      " [[791299      0]\n",
      " [     2 431879]]\n"
     ]
    }
   ],
   "source": [
    "print(\"Number of 0's and 1's in y_train dataset:\")\n",
    "print(y_train['x'].value_counts())\n",
    "print(\"\\nCONFUSION MATRIX FOR TRAINING SET: \\n {}\".format(confusion_matrix(y_train, y_tr_pred2)))\n",
    "\n",
    "print(\"\\nNumber of 0's and 1's in y_test dataset:\")\n",
    "print(y_test['x'].value_counts())\n",
    "print(\"\\nCONFUSION MATRIX FOR TESTING SET: \\n {}\".format(confusion_matrix(y_test, y_predict2)))"
   ],
   "metadata": {
    "collapsed": false,
    "pycharm": {
     "name": "#%%\n"
    }
   }
  },
  {
   "cell_type": "code",
   "execution_count": 21,
   "outputs": [
    {
     "data": {
      "text/plain": "<Figure size 500x500 with 2 Axes>",
      "image/png": "[encoded data removed]"
     },
     "metadata": {},
     "output_type": "display_data"
    }
   ],
   "source": [
    "cm=confusion_matrix(y_true2,y_predict2)\n",
    "f,ax=plt.subplots(figsize=(5,5))\n",
    "sns.heatmap(cm,annot=True,linewidth=0.5,linecolor=\"red\",fmt=\".0f\",ax=ax)\n",
    "plt.xlabel(\"y_pred\")\n",
    "plt.ylabel(\"y_true\")\n",
    "plt.show()"
   ],
   "metadata": {
    "collapsed": false,
    "pycharm": {
     "name": "#%%\n"
    }
   }
  },
  {
   "cell_type": "markdown",
   "source": [
    "For 90:10 ratio"
   ],
   "metadata": {
    "collapsed": false,
    "pycharm": {
     "name": "#%% md\n"
    }
   }
  },
  {
   "cell_type": "code",
   "execution_count": 78,
   "outputs": [],
   "source": [
    "x_train, x_test, y_train, y_test = train_test_split(x, y,train_size = 0.9, test_size = 0.1, random_state = 0,stratify = y)"
   ],
   "metadata": {
    "collapsed": false,
    "pycharm": {
     "name": "#%%\n"
    }
   }
  },
  {
   "cell_type": "code",
   "execution_count": 23,
   "outputs": [
    {
     "name": "stdout",
     "output_type": "stream",
     "text": [
      "Number of 0's and 1's in y_train dataset:\n",
      "0    2373896\n",
      "1    1295643\n",
      "Name: x, dtype: int64\n"
     ]
    }
   ],
   "source": [
    "print(\"Number of 0's and 1's in y_train dataset:\")\n",
    "print(y_train['x'].value_counts())"
   ],
   "metadata": {
    "collapsed": false,
    "pycharm": {
     "name": "#%%\n"
    }
   }
  },
  {
   "cell_type": "code",
   "execution_count": 24,
   "outputs": [
    {
     "name": "stdout",
     "output_type": "stream",
     "text": [
      "Number of 0's and 1's in y_test dataset:\n",
      "0    263766\n",
      "1    143961\n",
      "Name: x, dtype: int64\n"
     ]
    }
   ],
   "source": [
    "print(\"Number of 0's and 1's in y_test dataset:\")\n",
    "print(y_test['x'].value_counts())"
   ],
   "metadata": {
    "collapsed": false,
    "pycharm": {
     "name": "#%%\n"
    }
   }
  },
  {
   "cell_type": "code",
   "execution_count": 25,
   "outputs": [
    {
     "data": {
      "text/plain": "DecisionTreeClassifier(random_state=42)",
      "text/html": "<style>#sk-container-id-2 {color: black;background-color: white;}#sk-container-id-2 pre{padding: 0;}#sk-container-id-2 div.sk-toggleable {background-color: white;}#sk-container-id-2 label.sk-toggleable__label {cursor: pointer;display: block;width: 100%;margin-bottom: 0;padding: 0.3em;box-sizing: border-box;text-align: center;}#sk-container-id-2 label.sk-toggleable__label-arrow:before {content: \"▸\";float: left;margin-right: 0.25em;color: #696969;}#sk-container-id-2 label.sk-toggleable__label-arrow:hover:before {color: black;}#sk-container-id-2 div.sk-estimator:hover label.sk-toggleable__label-arrow:before {color: black;}#sk-container-id-2 div.sk-toggleable__content {max-height: 0;max-width: 0;overflow: hidden;text-align: left;background-color: #f0f8ff;}#sk-container-id-2 div.sk-toggleable__content pre {margin: 0.2em;color: black;border-radius: 0.25em;background-color: #f0f8ff;}#sk-container-id-2 input.sk-toggleable__control:checked~div.sk-toggleable__content {max-height: 200px;max-width: 100%;overflow: auto;}#sk-container-id-2 input.sk-toggleable__control:checked~label.sk-toggleable__label-arrow:before {content: \"▾\";}#sk-container-id-2 div.sk-estimator input.sk-toggleable__control:checked~label.sk-toggleable__label {background-color: #d4ebff;}#sk-container-id-2 div.sk-label input.sk-toggleable__control:checked~label.sk-toggleable__label {background-color: #d4ebff;}#sk-container-id-2 input.sk-hidden--visually {border: 0;clip: rect(1px 1px 1px 1px);clip: rect(1px, 1px, 1px, 1px);height: 1px;margin: -1px;overflow: hidden;padding: 0;position: absolute;width: 1px;}#sk-container-id-2 div.sk-estimator {font-family: monospace;background-color: #f0f8ff;border: 1px dotted black;border-radius: 0.25em;box-sizing: border-box;margin-bottom: 0.5em;}#sk-container-id-2 div.sk-estimator:hover {background-color: #d4ebff;}#sk-container-id-2 div.sk-parallel-item::after {content: \"\";width: 100%;border-bottom: 1px solid gray;flex-grow: 1;}#sk-container-id-2 div.sk-label:hover label.sk-toggleable__label {background-color: #d4ebff;}#sk-container-id-2 div.sk-serial::before {content: \"\";position: absolute;border-left: 1px solid gray;box-sizing: border-box;top: 0;bottom: 0;left: 50%;z-index: 0;}#sk-container-id-2 div.sk-serial {display: flex;flex-direction: column;align-items: center;background-color: white;padding-right: 0.2em;padding-left: 0.2em;position: relative;}#sk-container-id-2 div.sk-item {position: relative;z-index: 1;}#sk-container-id-2 div.sk-parallel {display: flex;align-items: stretch;justify-content: center;background-color: white;position: relative;}#sk-container-id-2 div.sk-item::before, #sk-container-id-2 div.sk-parallel-item::before {content: \"\";position: absolute;border-left: 1px solid gray;box-sizing: border-box;top: 0;bottom: 0;left: 50%;z-index: -1;}#sk-container-id-2 div.sk-parallel-item {display: flex;flex-direction: column;z-index: 1;position: relative;background-color: white;}#sk-container-id-2 div.sk-parallel-item:first-child::after {align-self: flex-end;width: 50%;}#sk-container-id-2 div.sk-parallel-item:last-child::after {align-self: flex-start;width: 50%;}#sk-container-id-2 div.sk-parallel-item:only-child::after {width: 0;}#sk-container-id-2 div.sk-dashed-wrapped {border: 1px dashed gray;margin: 0 0.4em 0.5em 0.4em;box-sizing: border-box;padding-bottom: 0.4em;background-color: white;}#sk-container-id-2 div.sk-label label {font-family: monospace;font-weight: bold;display: inline-block;line-height: 1.2em;}#sk-container-id-2 div.sk-label-container {text-align: center;}#sk-container-id-2 div.sk-container {/* jupyter's `normalize.less` sets `[hidden] { display: none; }` but bootstrap.min.css set `[hidden] { display: none !important; }` so we also need the `!important` here to be able to override the default hidden behavior on the sphinx rendered scikit-learn.org. See: https://github.com/scikit-learn/scikit-learn/issues/21755 */display: inline-block !important;position: relative;}#sk-container-id-2 div.sk-text-repr-fallback {display: none;}</style><div id=\"sk-container-id-2\" class=\"sk-top-container\"><div class=\"sk-text-repr-fallback\"><pre>DecisionTreeClassifier(random_state=42)</pre><b>In a Jupyter environment, please rerun this cell to show the HTML representation or trust the notebook. <br />On GitHub, the HTML representation is unable to render, please try loading this page with nbviewer.org.</b></div><div class=\"sk-container\" hidden><div class=\"sk-item\"><div class=\"sk-estimator sk-toggleable\"><input class=\"sk-toggleable__control sk-hidden--visually\" id=\"sk-estimator-id-2\" type=\"checkbox\" checked><label for=\"sk-estimator-id-2\" class=\"sk-toggleable__label sk-toggleable__label-arrow\">DecisionTreeClassifier</label><div class=\"sk-toggleable__content\"><pre>DecisionTreeClassifier(random_state=42)</pre></div></div></div></div></div>"
     },
     "execution_count": 25,
     "metadata": {},
     "output_type": "execute_result"
    }
   ],
   "source": [
    "dt = DecisionTreeClassifier(criterion='gini', splitter='best', max_depth=None, min_samples_split=2, min_samples_leaf=1, min_weight_fraction_leaf=0.0, max_features=None, random_state=42, max_leaf_nodes=None, min_impurity_decrease=0.0, class_weight=None, ccp_alpha=0.0)\n",
    "dt.fit(x_train,y_train)"
   ],
   "metadata": {
    "collapsed": false,
    "pycharm": {
     "name": "#%%\n"
    }
   }
  },
  {
   "cell_type": "code",
   "execution_count": 80,
   "outputs": [],
   "source": [
    "y_tr_pred3=dt.predict(x_train)\n",
    "y_tr_predict_prob3=dt.predict_proba(x_train)\n",
    "y_predict3=dt.predict(x_test)\n",
    "y_predict_prob3=dt.predict_proba(x_test)\n",
    "y_true3=y_test\n",
    "aucscore3=roc_auc_score(y_test,y_predict_prob3[:,1])\n",
    "# roc curve for tpr=fpr\n",
    "from sklearn.metrics import roc_curve\n",
    "randomprobs3 = [0 for i in range(len(y_test))]\n",
    "p_fpr3, p_tpr3, _= roc_curve(y_test,randomprobs3, pos_label=1)\n",
    "# roc curve for model\n",
    "fpr3, tpr3, thresh3 = roc_curve(y_test,y_predict_prob3[:,1], pos_label=1)"
   ],
   "metadata": {
    "collapsed": false,
    "pycharm": {
     "name": "#%%\n"
    }
   }
  },
  {
   "cell_type": "code",
   "execution_count": 28,
   "outputs": [
    {
     "name": "stdout",
     "output_type": "stream",
     "text": [
      "\n",
      "TRAINING DATA:\n",
      "              precision    recall  f1-score   support\n",
      "\n",
      "      normal       1.00      1.00      1.00   2373896\n",
      "    malicous       1.00      1.00      1.00   1295643\n",
      "\n",
      "    accuracy                           1.00   3669539\n",
      "   macro avg       1.00      1.00      1.00   3669539\n",
      "weighted avg       1.00      1.00      1.00   3669539\n",
      "\n",
      "1.0\n",
      "\n",
      "TEST DATA:\n",
      "              precision    recall  f1-score   support\n",
      "\n",
      "      normal       1.00      1.00      1.00    263766\n",
      "    malicous       1.00      1.00      1.00    143961\n",
      "\n",
      "    accuracy                           1.00    407727\n",
      "   macro avg       1.00      1.00      1.00    407727\n",
      "weighted avg       1.00      1.00      1.00    407727\n",
      "\n",
      "0.9999975473785155\n"
     ]
    }
   ],
   "source": [
    "from sklearn import metrics\n",
    "print(\"\\nTRAINING DATA:\")\n",
    "print(classification_report(y_train, y_tr_pred3, target_names=['normal', 'malicous']))\n",
    "print(metrics.accuracy_score(y_train, y_tr_pred3))\n",
    "\n",
    "print(\"\\nTEST DATA:\")\n",
    "print(classification_report(y_test, y_predict3, target_names=['normal', 'malicous']))\n",
    "print(metrics.accuracy_score(y_test, y_predict3))"
   ],
   "metadata": {
    "collapsed": false,
    "pycharm": {
     "name": "#%%\n"
    }
   }
  },
  {
   "cell_type": "code",
   "execution_count": 29,
   "outputs": [
    {
     "name": "stdout",
     "output_type": "stream",
     "text": [
      "Log-loss function on training data =  9.99200722162641e-16\n",
      "Log-loss function on testing data =  8.47105450345895e-05\n"
     ]
    }
   ],
   "source": [
    "from sklearn.metrics import log_loss\n",
    "print('Log-loss function on training data = ',log_loss(y_train,y_tr_pred3))\n",
    "print('Log-loss function on testing data = ',log_loss(y_test,y_predict3))"
   ],
   "metadata": {
    "collapsed": false,
    "pycharm": {
     "name": "#%%\n"
    }
   }
  },
  {
   "cell_type": "code",
   "execution_count": 30,
   "outputs": [
    {
     "name": "stdout",
     "output_type": "stream",
     "text": [
      "Number of 0's and 1's in y_train dataset:\n",
      "0    2373896\n",
      "1    1295643\n",
      "Name: x, dtype: int64\n",
      "\n",
      "CONFUSION MATRIX FOR TRAINING SET: \n",
      " [[2373896       0]\n",
      " [      0 1295643]]\n",
      "\n",
      "Number of 0's and 1's in y_test dataset:\n",
      "0    263766\n",
      "1    143961\n",
      "Name: x, dtype: int64\n",
      "\n",
      "CONFUSION MATRIX FOR TESTING SET: \n",
      " [[263766      0]\n",
      " [     1 143960]]\n"
     ]
    }
   ],
   "source": [
    "print(\"Number of 0's and 1's in y_train dataset:\")\n",
    "print(y_train['x'].value_counts())\n",
    "print(\"\\nCONFUSION MATRIX FOR TRAINING SET: \\n {}\".format(confusion_matrix(y_train, y_tr_pred3)))\n",
    "\n",
    "print(\"\\nNumber of 0's and 1's in y_test dataset:\")\n",
    "print(y_test['x'].value_counts())\n",
    "print(\"\\nCONFUSION MATRIX FOR TESTING SET: \\n {}\".format(confusion_matrix(y_test, y_predict3)))"
   ],
   "metadata": {
    "collapsed": false,
    "pycharm": {
     "name": "#%%\n"
    }
   }
  },
  {
   "cell_type": "code",
   "execution_count": 31,
   "outputs": [
    {
     "data": {
      "text/plain": "<Figure size 500x500 with 2 Axes>",
      "image/png": "[encoded data removed]"
     },
     "metadata": {},
     "output_type": "display_data"
    }
   ],
   "source": [
    "cm=confusion_matrix(y_true3,y_predict3)\n",
    "f,ax=plt.subplots(figsize=(5,5))\n",
    "sns.heatmap(cm,annot=True,linewidth=0.5,linecolor=\"red\",fmt=\".0f\",ax=ax)\n",
    "plt.xlabel(\"y_pred\")\n",
    "plt.ylabel(\"y_true\")\n",
    "plt.show()"
   ],
   "metadata": {
    "collapsed": false,
    "pycharm": {
     "name": "#%%\n"
    }
   }
  },
  {
   "cell_type": "markdown",
   "source": [
    "Implementing RF"
   ],
   "metadata": {
    "collapsed": false,
    "pycharm": {
     "name": "#%% md\n"
    }
   }
  },
  {
   "cell_type": "code",
   "execution_count": 32,
   "outputs": [],
   "source": [
    "from sklearn.ensemble import RandomForestClassifier"
   ],
   "metadata": {
    "collapsed": false,
    "pycharm": {
     "name": "#%%\n"
    }
   }
  },
  {
   "cell_type": "markdown",
   "source": [
    "For 80:20"
   ],
   "metadata": {
    "collapsed": false,
    "pycharm": {
     "name": "#%% md\n"
    }
   }
  },
  {
   "cell_type": "code",
   "execution_count": 81,
   "outputs": [],
   "source": [
    "x_train, x_test, y_train, y_test = train_test_split(x, y,train_size = 0.8, test_size = 0.2, random_state = 0,stratify = y)"
   ],
   "metadata": {
    "collapsed": false,
    "pycharm": {
     "name": "#%%\n"
    }
   }
  },
  {
   "cell_type": "code",
   "execution_count": 82,
   "outputs": [
    {
     "name": "stdout",
     "output_type": "stream",
     "text": [
      "Number of 0's and 1's in y_train dataset:\n",
      "0    2110129\n",
      "1    1151683\n",
      "Name: x, dtype: int64\n"
     ]
    }
   ],
   "source": [
    "print(\"Number of 0's and 1's in y_train dataset:\")\n",
    "print(y_train['x'].value_counts())"
   ],
   "metadata": {
    "collapsed": false,
    "pycharm": {
     "name": "#%%\n"
    }
   }
  },
  {
   "cell_type": "code",
   "execution_count": 83,
   "outputs": [
    {
     "name": "stdout",
     "output_type": "stream",
     "text": [
      "Number of 0's and 1's in y_test dataset:\n",
      "0    527533\n",
      "1    287921\n",
      "Name: x, dtype: int64\n"
     ]
    }
   ],
   "source": [
    "print(\"Number of 0's and 1's in y_test dataset:\")\n",
    "print(y_test['x'].value_counts())"
   ],
   "metadata": {
    "collapsed": false,
    "pycharm": {
     "name": "#%%\n"
    }
   }
  },
  {
   "cell_type": "code",
   "execution_count": 34,
   "outputs": [
    {
     "data": {
      "text/plain": "RandomForestClassifier(n_jobs=12)",
      "text/html": "<style>#sk-container-id-3 {color: black;background-color: white;}#sk-container-id-3 pre{padding: 0;}#sk-container-id-3 div.sk-toggleable {background-color: white;}#sk-container-id-3 label.sk-toggleable__label {cursor: pointer;display: block;width: 100%;margin-bottom: 0;padding: 0.3em;box-sizing: border-box;text-align: center;}#sk-container-id-3 label.sk-toggleable__label-arrow:before {content: \"▸\";float: left;margin-right: 0.25em;color: #696969;}#sk-container-id-3 label.sk-toggleable__label-arrow:hover:before {color: black;}#sk-container-id-3 div.sk-estimator:hover label.sk-toggleable__label-arrow:before {color: black;}#sk-container-id-3 div.sk-toggleable__content {max-height: 0;max-width: 0;overflow: hidden;text-align: left;background-color: #f0f8ff;}#sk-container-id-3 div.sk-toggleable__content pre {margin: 0.2em;color: black;border-radius: 0.25em;background-color: #f0f8ff;}#sk-container-id-3 input.sk-toggleable__control:checked~div.sk-toggleable__content {max-height: 200px;max-width: 100%;overflow: auto;}#sk-container-id-3 input.sk-toggleable__control:checked~label.sk-toggleable__label-arrow:before {content: \"▾\";}#sk-container-id-3 div.sk-estimator input.sk-toggleable__control:checked~label.sk-toggleable__label {background-color: #d4ebff;}#sk-container-id-3 div.sk-label input.sk-toggleable__control:checked~label.sk-toggleable__label {background-color: #d4ebff;}#sk-container-id-3 input.sk-hidden--visually {border: 0;clip: rect(1px 1px 1px 1px);clip: rect(1px, 1px, 1px, 1px);height: 1px;margin: -1px;overflow: hidden;padding: 0;position: absolute;width: 1px;}#sk-container-id-3 div.sk-estimator {font-family: monospace;background-color: #f0f8ff;border: 1px dotted black;border-radius: 0.25em;box-sizing: border-box;margin-bottom: 0.5em;}#sk-container-id-3 div.sk-estimator:hover {background-color: #d4ebff;}#sk-container-id-3 div.sk-parallel-item::after {content: \"\";width: 100%;border-bottom: 1px solid gray;flex-grow: 1;}#sk-container-id-3 div.sk-label:hover label.sk-toggleable__label {background-color: #d4ebff;}#sk-container-id-3 div.sk-serial::before {content: \"\";position: absolute;border-left: 1px solid gray;box-sizing: border-box;top: 0;bottom: 0;left: 50%;z-index: 0;}#sk-container-id-3 div.sk-serial {display: flex;flex-direction: column;align-items: center;background-color: white;padding-right: 0.2em;padding-left: 0.2em;position: relative;}#sk-container-id-3 div.sk-item {position: relative;z-index: 1;}#sk-container-id-3 div.sk-parallel {display: flex;align-items: stretch;justify-content: center;background-color: white;position: relative;}#sk-container-id-3 div.sk-item::before, #sk-container-id-3 div.sk-parallel-item::before {content: \"\";position: absolute;border-left: 1px solid gray;box-sizing: border-box;top: 0;bottom: 0;left: 50%;z-index: -1;}#sk-container-id-3 div.sk-parallel-item {display: flex;flex-direction: column;z-index: 1;position: relative;background-color: white;}#sk-container-id-3 div.sk-parallel-item:first-child::after {align-self: flex-end;width: 50%;}#sk-container-id-3 div.sk-parallel-item:last-child::after {align-self: flex-start;width: 50%;}#sk-container-id-3 div.sk-parallel-item:only-child::after {width: 0;}#sk-container-id-3 div.sk-dashed-wrapped {border: 1px dashed gray;margin: 0 0.4em 0.5em 0.4em;box-sizing: border-box;padding-bottom: 0.4em;background-color: white;}#sk-container-id-3 div.sk-label label {font-family: monospace;font-weight: bold;display: inline-block;line-height: 1.2em;}#sk-container-id-3 div.sk-label-container {text-align: center;}#sk-container-id-3 div.sk-container {/* jupyter's `normalize.less` sets `[hidden] { display: none; }` but bootstrap.min.css set `[hidden] { display: none !important; }` so we also need the `!important` here to be able to override the default hidden behavior on the sphinx rendered scikit-learn.org. See: https://github.com/scikit-learn/scikit-learn/issues/21755 */display: inline-block !important;position: relative;}#sk-container-id-3 div.sk-text-repr-fallback {display: none;}</style><div id=\"sk-container-id-3\" class=\"sk-top-container\"><div class=\"sk-text-repr-fallback\"><pre>RandomForestClassifier(n_jobs=12)</pre><b>In a Jupyter environment, please rerun this cell to show the HTML representation or trust the notebook. <br />On GitHub, the HTML representation is unable to render, please try loading this page with nbviewer.org.</b></div><div class=\"sk-container\" hidden><div class=\"sk-item\"><div class=\"sk-estimator sk-toggleable\"><input class=\"sk-toggleable__control sk-hidden--visually\" id=\"sk-estimator-id-3\" type=\"checkbox\" checked><label for=\"sk-estimator-id-3\" class=\"sk-toggleable__label sk-toggleable__label-arrow\">RandomForestClassifier</label><div class=\"sk-toggleable__content\"><pre>RandomForestClassifier(n_jobs=12)</pre></div></div></div></div></div>"
     },
     "execution_count": 34,
     "metadata": {},
     "output_type": "execute_result"
    }
   ],
   "source": [
    "rfc=RandomForestClassifier(criterion='gini',n_jobs=12)\n",
    "rfc.fit(x_train,y_train.values.ravel())"
   ],
   "metadata": {
    "collapsed": false,
    "pycharm": {
     "name": "#%%\n"
    }
   }
  },
  {
   "cell_type": "code",
   "execution_count": 84,
   "outputs": [],
   "source": [
    "y_tr_pred4 = rfc.predict(x_train)\n",
    "y_tr_predict_prob4 = rfc.predict(x_train)\n",
    "y_pred4 = rfc.predict(x_test)\n",
    "y_pred_prob4 = rfc.predict_proba(x_test)\n",
    "y_true4 = y_test\n",
    "aucscore4=roc_auc_score(y_test,y_pred_prob4[:,1])\n",
    "# roc curve for tpr=fpr\n",
    "from sklearn.metrics import roc_curve\n",
    "randomprobs4 = [0 for i in range(len(y_test))]\n",
    "p_fpr4, p_tpr4, _= roc_curve(y_test,randomprobs4, pos_label=1)\n",
    "# roc curve for model\n",
    "fpr4, tpr4, thresh4 = roc_curve(y_test,y_pred_prob4[:,1], pos_label=1)"
   ],
   "metadata": {
    "collapsed": false,
    "pycharm": {
     "name": "#%%\n"
    }
   }
  },
  {
   "cell_type": "code",
   "execution_count": 36,
   "outputs": [
    {
     "name": "stdout",
     "output_type": "stream",
     "text": [
      "\n",
      "TRAINING DATA:\n",
      "              precision    recall  f1-score   support\n",
      "\n",
      "      normal       1.00      1.00      1.00   2110129\n",
      "    malicous       1.00      1.00      1.00   1151683\n",
      "\n",
      "    accuracy                           1.00   3261812\n",
      "   macro avg       1.00      1.00      1.00   3261812\n",
      "weighted avg       1.00      1.00      1.00   3261812\n",
      "\n",
      "1.0\n",
      "\n",
      "TEST DATA:\n",
      "              precision    recall  f1-score   support\n",
      "\n",
      "      normal       1.00      1.00      1.00    527533\n",
      "    malicous       1.00      1.00      1.00    287921\n",
      "\n",
      "    accuracy                           1.00    815454\n",
      "   macro avg       1.00      1.00      1.00    815454\n",
      "weighted avg       1.00      1.00      1.00    815454\n",
      "\n",
      "0.9999975473785155\n"
     ]
    }
   ],
   "source": [
    "from sklearn import metrics\n",
    "print(\"\\nTRAINING DATA:\")\n",
    "print(classification_report(y_train, y_tr_pred4, target_names=['normal', 'malicous']))\n",
    "print(metrics.accuracy_score(y_train, y_tr_pred4))\n",
    "\n",
    "print(\"\\nTEST DATA:\")\n",
    "print(classification_report(y_test, y_pred4, target_names=['normal', 'malicous']))\n",
    "print(metrics.accuracy_score(y_test, y_pred4))"
   ],
   "metadata": {
    "collapsed": false,
    "pycharm": {
     "name": "#%%\n"
    }
   }
  },
  {
   "cell_type": "code",
   "execution_count": 38,
   "outputs": [
    {
     "name": "stdout",
     "output_type": "stream",
     "text": [
      "Log-loss function on training data =  9.99200722162641e-16\n",
      "Log-loss function on testing data =  8.47105450345895e-05\n"
     ]
    }
   ],
   "source": [
    "from sklearn.metrics import log_loss\n",
    "print('Log-loss function on training data = ',log_loss(y_train,y_tr_pred4))\n",
    "print('Log-loss function on testing data = ',log_loss(y_test,y_pred4))"
   ],
   "metadata": {
    "collapsed": false,
    "pycharm": {
     "name": "#%%\n"
    }
   }
  },
  {
   "cell_type": "code",
   "execution_count": 39,
   "outputs": [
    {
     "name": "stdout",
     "output_type": "stream",
     "text": [
      "Number of 0's and 1's in y_train dataset:\n",
      "0    2110129\n",
      "1    1151683\n",
      "Name: x, dtype: int64\n",
      "\n",
      "CONFUSION MATRIX FOR TRAINING SET: \n",
      " [[2110129       0]\n",
      " [      0 1151683]]\n",
      "\n",
      "Number of 0's and 1's in y_test dataset:\n",
      "0    527533\n",
      "1    287921\n",
      "Name: x, dtype: int64\n",
      "\n",
      "CONFUSION MATRIX FOR TESTING SET: \n",
      " [[527533      0]\n",
      " [     2 287919]]\n"
     ]
    }
   ],
   "source": [
    "print(\"Number of 0's and 1's in y_train dataset:\")\n",
    "print(y_train['x'].value_counts())\n",
    "print(\"\\nCONFUSION MATRIX FOR TRAINING SET: \\n {}\".format(confusion_matrix(y_train, y_tr_pred4)))\n",
    "\n",
    "print(\"\\nNumber of 0's and 1's in y_test dataset:\")\n",
    "print(y_test['x'].value_counts())\n",
    "print(\"\\nCONFUSION MATRIX FOR TESTING SET: \\n {}\".format(confusion_matrix(y_test, y_pred4)))"
   ],
   "metadata": {
    "collapsed": false,
    "pycharm": {
     "name": "#%%\n"
    }
   }
  },
  {
   "cell_type": "code",
   "execution_count": 42,
   "outputs": [
    {
     "data": {
      "text/plain": "<Figure size 500x500 with 2 Axes>",
      "image/png": "[encoded data removed]"
     },
     "metadata": {},
     "output_type": "display_data"
    }
   ],
   "source": [
    "cm=confusion_matrix(y_true4,y_pred4)\n",
    "f,ax=plt.subplots(figsize=(5,5))\n",
    "sns.heatmap(cm,annot=True,linewidth=0.5,linecolor=\"red\",fmt=\".0f\",ax=ax)\n",
    "plt.xlabel(\"y_pred\")\n",
    "plt.ylabel(\"y_true\")\n",
    "plt.show()"
   ],
   "metadata": {
    "collapsed": false,
    "pycharm": {
     "name": "#%%\n"
    }
   }
  },
  {
   "cell_type": "markdown",
   "source": [
    "For 70:30"
   ],
   "metadata": {
    "collapsed": false,
    "pycharm": {
     "name": "#%% md\n"
    }
   }
  },
  {
   "cell_type": "code",
   "execution_count": 85,
   "outputs": [],
   "source": [
    "x_train, x_test, y_train, y_test = train_test_split(x, y,train_size = 0.7, test_size = 0.3, random_state = 0,stratify = y)"
   ],
   "metadata": {
    "collapsed": false,
    "pycharm": {
     "name": "#%%\n"
    }
   }
  },
  {
   "cell_type": "code",
   "execution_count": 50,
   "outputs": [
    {
     "name": "stdout",
     "output_type": "stream",
     "text": [
      "Number of 0's and 1's in y_train dataset:\n",
      "0    1846363\n",
      "1    1007723\n",
      "Name: x, dtype: int64\n"
     ]
    }
   ],
   "source": [
    "print(\"Number of 0's and 1's in y_train dataset:\")\n",
    "print(y_train['x'].value_counts())"
   ],
   "metadata": {
    "collapsed": false,
    "pycharm": {
     "name": "#%%\n"
    }
   }
  },
  {
   "cell_type": "code",
   "execution_count": 51,
   "outputs": [
    {
     "name": "stdout",
     "output_type": "stream",
     "text": [
      "Number of 0's and 1's in y_test dataset:\n",
      "0    791299\n",
      "1    431881\n",
      "Name: x, dtype: int64\n"
     ]
    }
   ],
   "source": [
    "print(\"Number of 0's and 1's in y_test dataset:\")\n",
    "print(y_test['x'].value_counts())"
   ],
   "metadata": {
    "collapsed": false,
    "pycharm": {
     "name": "#%%\n"
    }
   }
  },
  {
   "cell_type": "code",
   "execution_count": 48,
   "outputs": [
    {
     "data": {
      "text/plain": "RandomForestClassifier(n_jobs=12)",
      "text/html": "<style>#sk-container-id-4 {color: black;background-color: white;}#sk-container-id-4 pre{padding: 0;}#sk-container-id-4 div.sk-toggleable {background-color: white;}#sk-container-id-4 label.sk-toggleable__label {cursor: pointer;display: block;width: 100%;margin-bottom: 0;padding: 0.3em;box-sizing: border-box;text-align: center;}#sk-container-id-4 label.sk-toggleable__label-arrow:before {content: \"▸\";float: left;margin-right: 0.25em;color: #696969;}#sk-container-id-4 label.sk-toggleable__label-arrow:hover:before {color: black;}#sk-container-id-4 div.sk-estimator:hover label.sk-toggleable__label-arrow:before {color: black;}#sk-container-id-4 div.sk-toggleable__content {max-height: 0;max-width: 0;overflow: hidden;text-align: left;background-color: #f0f8ff;}#sk-container-id-4 div.sk-toggleable__content pre {margin: 0.2em;color: black;border-radius: 0.25em;background-color: #f0f8ff;}#sk-container-id-4 input.sk-toggleable__control:checked~div.sk-toggleable__content {max-height: 200px;max-width: 100%;overflow: auto;}#sk-container-id-4 input.sk-toggleable__control:checked~label.sk-toggleable__label-arrow:before {content: \"▾\";}#sk-container-id-4 div.sk-estimator input.sk-toggleable__control:checked~label.sk-toggleable__label {background-color: #d4ebff;}#sk-container-id-4 div.sk-label input.sk-toggleable__control:checked~label.sk-toggleable__label {background-color: #d4ebff;}#sk-container-id-4 input.sk-hidden--visually {border: 0;clip: rect(1px 1px 1px 1px);clip: rect(1px, 1px, 1px, 1px);height: 1px;margin: -1px;overflow: hidden;padding: 0;position: absolute;width: 1px;}#sk-container-id-4 div.sk-estimator {font-family: monospace;background-color: #f0f8ff;border: 1px dotted black;border-radius: 0.25em;box-sizing: border-box;margin-bottom: 0.5em;}#sk-container-id-4 div.sk-estimator:hover {background-color: #d4ebff;}#sk-container-id-4 div.sk-parallel-item::after {content: \"\";width: 100%;border-bottom: 1px solid gray;flex-grow: 1;}#sk-container-id-4 div.sk-label:hover label.sk-toggleable__label {background-color: #d4ebff;}#sk-container-id-4 div.sk-serial::before {content: \"\";position: absolute;border-left: 1px solid gray;box-sizing: border-box;top: 0;bottom: 0;left: 50%;z-index: 0;}#sk-container-id-4 div.sk-serial {display: flex;flex-direction: column;align-items: center;background-color: white;padding-right: 0.2em;padding-left: 0.2em;position: relative;}#sk-container-id-4 div.sk-item {position: relative;z-index: 1;}#sk-container-id-4 div.sk-parallel {display: flex;align-items: stretch;justify-content: center;background-color: white;position: relative;}#sk-container-id-4 div.sk-item::before, #sk-container-id-4 div.sk-parallel-item::before {content: \"\";position: absolute;border-left: 1px solid gray;box-sizing: border-box;top: 0;bottom: 0;left: 50%;z-index: -1;}#sk-container-id-4 div.sk-parallel-item {display: flex;flex-direction: column;z-index: 1;position: relative;background-color: white;}#sk-container-id-4 div.sk-parallel-item:first-child::after {align-self: flex-end;width: 50%;}#sk-container-id-4 div.sk-parallel-item:last-child::after {align-self: flex-start;width: 50%;}#sk-container-id-4 div.sk-parallel-item:only-child::after {width: 0;}#sk-container-id-4 div.sk-dashed-wrapped {border: 1px dashed gray;margin: 0 0.4em 0.5em 0.4em;box-sizing: border-box;padding-bottom: 0.4em;background-color: white;}#sk-container-id-4 div.sk-label label {font-family: monospace;font-weight: bold;display: inline-block;line-height: 1.2em;}#sk-container-id-4 div.sk-label-container {text-align: center;}#sk-container-id-4 div.sk-container {/* jupyter's `normalize.less` sets `[hidden] { display: none; }` but bootstrap.min.css set `[hidden] { display: none !important; }` so we also need the `!important` here to be able to override the default hidden behavior on the sphinx rendered scikit-learn.org. See: https://github.com/scikit-learn/scikit-learn/issues/21755 */display: inline-block !important;position: relative;}#sk-container-id-4 div.sk-text-repr-fallback {display: none;}</style><div id=\"sk-container-id-4\" class=\"sk-top-container\"><div class=\"sk-text-repr-fallback\"><pre>RandomForestClassifier(n_jobs=12)</pre><b>In a Jupyter environment, please rerun this cell to show the HTML representation or trust the notebook. <br />On GitHub, the HTML representation is unable to render, please try loading this page with nbviewer.org.</b></div><div class=\"sk-container\" hidden><div class=\"sk-item\"><div class=\"sk-estimator sk-toggleable\"><input class=\"sk-toggleable__control sk-hidden--visually\" id=\"sk-estimator-id-4\" type=\"checkbox\" checked><label for=\"sk-estimator-id-4\" class=\"sk-toggleable__label sk-toggleable__label-arrow\">RandomForestClassifier</label><div class=\"sk-toggleable__content\"><pre>RandomForestClassifier(n_jobs=12)</pre></div></div></div></div></div>"
     },
     "execution_count": 48,
     "metadata": {},
     "output_type": "execute_result"
    }
   ],
   "source": [
    "rfc=RandomForestClassifier(criterion='gini',n_jobs=12)\n",
    "rfc.fit(x_train,y_train.values.ravel())"
   ],
   "metadata": {
    "collapsed": false,
    "pycharm": {
     "name": "#%%\n"
    }
   }
  },
  {
   "cell_type": "code",
   "execution_count": 86,
   "outputs": [],
   "source": [
    "y_tr_pred5 = rfc.predict(x_train)\n",
    "y_tr_predict_prob5 = rfc.predict(x_train)\n",
    "y_pred5 = rfc.predict(x_test)\n",
    "y_pred_prob5 = rfc.predict_proba(x_test)\n",
    "y_true5 = y_test\n",
    "aucscore5=roc_auc_score(y_test,y_pred_prob5[:,1])\n",
    "# roc curve for tpr=fpr\n",
    "from sklearn.metrics import roc_curve\n",
    "randomprobs5 = [0 for i in range(len(y_test))]\n",
    "p_fpr5, p_tpr5, _= roc_curve(y_test,randomprobs5, pos_label=1)\n",
    "# roc curve for model\n",
    "fpr5, tpr5, thresh5 = roc_curve(y_test,y_pred_prob5[:,1], pos_label=1)"
   ],
   "metadata": {
    "collapsed": false,
    "pycharm": {
     "name": "#%%\n"
    }
   }
  },
  {
   "cell_type": "code",
   "execution_count": 53,
   "outputs": [
    {
     "name": "stdout",
     "output_type": "stream",
     "text": [
      "\n",
      "TRAINING DATA:\n",
      "              precision    recall  f1-score   support\n",
      "\n",
      "      normal       1.00      1.00      1.00   1846363\n",
      "    malicous       1.00      1.00      1.00   1007723\n",
      "\n",
      "    accuracy                           1.00   2854086\n",
      "   macro avg       1.00      1.00      1.00   2854086\n",
      "weighted avg       1.00      1.00      1.00   2854086\n",
      "\n",
      "1.0\n",
      "\n",
      "TEST DATA:\n",
      "              precision    recall  f1-score   support\n",
      "\n",
      "      normal       1.00      1.00      1.00    791299\n",
      "    malicous       1.00      1.00      1.00    431881\n",
      "\n",
      "    accuracy                           1.00   1223180\n",
      "   macro avg       1.00      1.00      1.00   1223180\n",
      "weighted avg       1.00      1.00      1.00   1223180\n",
      "\n",
      "0.9999975473765104\n"
     ]
    }
   ],
   "source": [
    "from sklearn import metrics\n",
    "print(\"\\nTRAINING DATA:\")\n",
    "print(classification_report(y_train, y_tr_pred5, target_names=['normal', 'malicous']))\n",
    "print(metrics.accuracy_score(y_train, y_tr_pred5))\n",
    "\n",
    "print(\"\\nTEST DATA:\")\n",
    "print(classification_report(y_test, y_pred5, target_names=['normal', 'malicous']))\n",
    "print(metrics.accuracy_score(y_test, y_pred5))"
   ],
   "metadata": {
    "collapsed": false,
    "pycharm": {
     "name": "#%%\n"
    }
   }
  },
  {
   "cell_type": "code",
   "execution_count": 54,
   "outputs": [
    {
     "name": "stdout",
     "output_type": "stream",
     "text": [
      "Log-loss function on training data =  9.99200722162641e-16\n",
      "Log-loss function on testing data =  8.471061428894706e-05\n"
     ]
    }
   ],
   "source": [
    "from sklearn.metrics import log_loss\n",
    "print('Log-loss function on training data = ',log_loss(y_train,y_tr_pred5))\n",
    "print('Log-loss function on testing data = ',log_loss(y_test,y_pred5))"
   ],
   "metadata": {
    "collapsed": false,
    "pycharm": {
     "name": "#%%\n"
    }
   }
  },
  {
   "cell_type": "code",
   "execution_count": 55,
   "outputs": [
    {
     "name": "stdout",
     "output_type": "stream",
     "text": [
      "Number of 0's and 1's in y_train dataset:\n",
      "0    1846363\n",
      "1    1007723\n",
      "Name: x, dtype: int64\n",
      "\n",
      "CONFUSION MATRIX FOR TRAINING SET: \n",
      " [[1846363       0]\n",
      " [      0 1007723]]\n",
      "\n",
      "Number of 0's and 1's in y_test dataset:\n",
      "0    791299\n",
      "1    431881\n",
      "Name: x, dtype: int64\n",
      "\n",
      "CONFUSION MATRIX FOR TESTING SET: \n",
      " [[791299      0]\n",
      " [     3 431878]]\n"
     ]
    }
   ],
   "source": [
    "print(\"Number of 0's and 1's in y_train dataset:\")\n",
    "print(y_train['x'].value_counts())\n",
    "print(\"\\nCONFUSION MATRIX FOR TRAINING SET: \\n {}\".format(confusion_matrix(y_train, y_tr_pred5)))\n",
    "\n",
    "print(\"\\nNumber of 0's and 1's in y_test dataset:\")\n",
    "print(y_test['x'].value_counts())\n",
    "print(\"\\nCONFUSION MATRIX FOR TESTING SET: \\n {}\".format(confusion_matrix(y_test, y_pred5)))"
   ],
   "metadata": {
    "collapsed": false,
    "pycharm": {
     "name": "#%%\n"
    }
   }
  },
  {
   "cell_type": "code",
   "execution_count": 56,
   "outputs": [
    {
     "data": {
      "text/plain": "<Figure size 500x500 with 2 Axes>",
      "image/png": "[encoded data removed]"
     },
     "metadata": {},
     "output_type": "display_data"
    }
   ],
   "source": [
    "cm=confusion_matrix(y_true5,y_pred5)\n",
    "f,ax=plt.subplots(figsize=(5,5))\n",
    "sns.heatmap(cm,annot=True,linewidth=0.5,linecolor=\"red\",fmt=\".0f\",ax=ax)\n",
    "plt.xlabel(\"y_pred\")\n",
    "plt.ylabel(\"y_true\")\n",
    "plt.show()"
   ],
   "metadata": {
    "collapsed": false,
    "pycharm": {
     "name": "#%%\n"
    }
   }
  },
  {
   "cell_type": "markdown",
   "source": [
    "For 90:10"
   ],
   "metadata": {
    "collapsed": false,
    "pycharm": {
     "name": "#%% md\n"
    }
   }
  },
  {
   "cell_type": "code",
   "execution_count": 87,
   "outputs": [],
   "source": [
    "x_train, x_test, y_train, y_test = train_test_split(x, y,train_size = 0.9, test_size = 0.1, random_state = 0,stratify = y)"
   ],
   "metadata": {
    "collapsed": false,
    "pycharm": {
     "name": "#%%\n"
    }
   }
  },
  {
   "cell_type": "code",
   "execution_count": 88,
   "outputs": [
    {
     "name": "stdout",
     "output_type": "stream",
     "text": [
      "Number of 0's and 1's in y_train dataset:\n",
      "0    2373896\n",
      "1    1295643\n",
      "Name: x, dtype: int64\n"
     ]
    }
   ],
   "source": [
    "print(\"Number of 0's and 1's in y_train dataset:\")\n",
    "print(y_train['x'].value_counts())"
   ],
   "metadata": {
    "collapsed": false,
    "pycharm": {
     "name": "#%%\n"
    }
   }
  },
  {
   "cell_type": "code",
   "execution_count": 59,
   "outputs": [
    {
     "name": "stdout",
     "output_type": "stream",
     "text": [
      "Number of 0's and 1's in y_test dataset:\n",
      "0    263766\n",
      "1    143961\n",
      "Name: x, dtype: int64\n"
     ]
    }
   ],
   "source": [
    "print(\"Number of 0's and 1's in y_test dataset:\")\n",
    "print(y_test['x'].value_counts())"
   ],
   "metadata": {
    "collapsed": false,
    "pycharm": {
     "name": "#%%\n"
    }
   }
  },
  {
   "cell_type": "code",
   "execution_count": 60,
   "outputs": [
    {
     "data": {
      "text/plain": "RandomForestClassifier(n_jobs=12)",
      "text/html": "<style>#sk-container-id-5 {color: black;background-color: white;}#sk-container-id-5 pre{padding: 0;}#sk-container-id-5 div.sk-toggleable {background-color: white;}#sk-container-id-5 label.sk-toggleable__label {cursor: pointer;display: block;width: 100%;margin-bottom: 0;padding: 0.3em;box-sizing: border-box;text-align: center;}#sk-container-id-5 label.sk-toggleable__label-arrow:before {content: \"▸\";float: left;margin-right: 0.25em;color: #696969;}#sk-container-id-5 label.sk-toggleable__label-arrow:hover:before {color: black;}#sk-container-id-5 div.sk-estimator:hover label.sk-toggleable__label-arrow:before {color: black;}#sk-container-id-5 div.sk-toggleable__content {max-height: 0;max-width: 0;overflow: hidden;text-align: left;background-color: #f0f8ff;}#sk-container-id-5 div.sk-toggleable__content pre {margin: 0.2em;color: black;border-radius: 0.25em;background-color: #f0f8ff;}#sk-container-id-5 input.sk-toggleable__control:checked~div.sk-toggleable__content {max-height: 200px;max-width: 100%;overflow: auto;}#sk-container-id-5 input.sk-toggleable__control:checked~label.sk-toggleable__label-arrow:before {content: \"▾\";}#sk-container-id-5 div.sk-estimator input.sk-toggleable__control:checked~label.sk-toggleable__label {background-color: #d4ebff;}#sk-container-id-5 div.sk-label input.sk-toggleable__control:checked~label.sk-toggleable__label {background-color: #d4ebff;}#sk-container-id-5 input.sk-hidden--visually {border: 0;clip: rect(1px 1px 1px 1px);clip: rect(1px, 1px, 1px, 1px);height: 1px;margin: -1px;overflow: hidden;padding: 0;position: absolute;width: 1px;}#sk-container-id-5 div.sk-estimator {font-family: monospace;background-color: #f0f8ff;border: 1px dotted black;border-radius: 0.25em;box-sizing: border-box;margin-bottom: 0.5em;}#sk-container-id-5 div.sk-estimator:hover {background-color: #d4ebff;}#sk-container-id-5 div.sk-parallel-item::after {content: \"\";width: 100%;border-bottom: 1px solid gray;flex-grow: 1;}#sk-container-id-5 div.sk-label:hover label.sk-toggleable__label {background-color: #d4ebff;}#sk-container-id-5 div.sk-serial::before {content: \"\";position: absolute;border-left: 1px solid gray;box-sizing: border-box;top: 0;bottom: 0;left: 50%;z-index: 0;}#sk-container-id-5 div.sk-serial {display: flex;flex-direction: column;align-items: center;background-color: white;padding-right: 0.2em;padding-left: 0.2em;position: relative;}#sk-container-id-5 div.sk-item {position: relative;z-index: 1;}#sk-container-id-5 div.sk-parallel {display: flex;align-items: stretch;justify-content: center;background-color: white;position: relative;}#sk-container-id-5 div.sk-item::before, #sk-container-id-5 div.sk-parallel-item::before {content: \"\";position: absolute;border-left: 1px solid gray;box-sizing: border-box;top: 0;bottom: 0;left: 50%;z-index: -1;}#sk-container-id-5 div.sk-parallel-item {display: flex;flex-direction: column;z-index: 1;position: relative;background-color: white;}#sk-container-id-5 div.sk-parallel-item:first-child::after {align-self: flex-end;width: 50%;}#sk-container-id-5 div.sk-parallel-item:last-child::after {align-self: flex-start;width: 50%;}#sk-container-id-5 div.sk-parallel-item:only-child::after {width: 0;}#sk-container-id-5 div.sk-dashed-wrapped {border: 1px dashed gray;margin: 0 0.4em 0.5em 0.4em;box-sizing: border-box;padding-bottom: 0.4em;background-color: white;}#sk-container-id-5 div.sk-label label {font-family: monospace;font-weight: bold;display: inline-block;line-height: 1.2em;}#sk-container-id-5 div.sk-label-container {text-align: center;}#sk-container-id-5 div.sk-container {/* jupyter's `normalize.less` sets `[hidden] { display: none; }` but bootstrap.min.css set `[hidden] { display: none !important; }` so we also need the `!important` here to be able to override the default hidden behavior on the sphinx rendered scikit-learn.org. See: https://github.com/scikit-learn/scikit-learn/issues/21755 */display: inline-block !important;position: relative;}#sk-container-id-5 div.sk-text-repr-fallback {display: none;}</style><div id=\"sk-container-id-5\" class=\"sk-top-container\"><div class=\"sk-text-repr-fallback\"><pre>RandomForestClassifier(n_jobs=12)</pre><b>In a Jupyter environment, please rerun this cell to show the HTML representation or trust the notebook. <br />On GitHub, the HTML representation is unable to render, please try loading this page with nbviewer.org.</b></div><div class=\"sk-container\" hidden><div class=\"sk-item\"><div class=\"sk-estimator sk-toggleable\"><input class=\"sk-toggleable__control sk-hidden--visually\" id=\"sk-estimator-id-5\" type=\"checkbox\" checked><label for=\"sk-estimator-id-5\" class=\"sk-toggleable__label sk-toggleable__label-arrow\">RandomForestClassifier</label><div class=\"sk-toggleable__content\"><pre>RandomForestClassifier(n_jobs=12)</pre></div></div></div></div></div>"
     },
     "execution_count": 60,
     "metadata": {},
     "output_type": "execute_result"
    }
   ],
   "source": [
    "rfc=RandomForestClassifier(criterion='gini',n_jobs=12)\n",
    "rfc.fit(x_train,y_train.values.ravel())"
   ],
   "metadata": {
    "collapsed": false,
    "pycharm": {
     "name": "#%%\n"
    }
   }
  },
  {
   "cell_type": "code",
   "execution_count": 89,
   "outputs": [],
   "source": [
    "y_tr_pred6 = rfc.predict(x_train)\n",
    "y_tr_predict_prob6 = rfc.predict(x_train)\n",
    "y_pred6 = rfc.predict(x_test)\n",
    "y_pred_prob6 = rfc.predict_proba(x_test)\n",
    "y_true6 = y_test\n",
    "aucscore6=roc_auc_score(y_test,y_pred_prob6[:,1])\n",
    "# roc curve for tpr=fpr\n",
    "from sklearn.metrics import roc_curve\n",
    "randomprobs6 = [0 for i in range(len(y_test))]\n",
    "p_fpr6, p_tpr6, _= roc_curve(y_test,randomprobs6, pos_label=1)\n",
    "# roc curve for model\n",
    "fpr6, tpr6, thresh6 = roc_curve(y_test,y_pred_prob6[:,1], pos_label=1)"
   ],
   "metadata": {
    "collapsed": false,
    "pycharm": {
     "name": "#%%\n"
    }
   }
  },
  {
   "cell_type": "code",
   "execution_count": 63,
   "outputs": [
    {
     "name": "stdout",
     "output_type": "stream",
     "text": [
      "\n",
      "TRAINING DATA:\n",
      "              precision    recall  f1-score   support\n",
      "\n",
      "      normal       1.00      1.00      1.00   2373896\n",
      "    malicous       1.00      1.00      1.00   1295643\n",
      "\n",
      "    accuracy                           1.00   3669539\n",
      "   macro avg       1.00      1.00      1.00   3669539\n",
      "weighted avg       1.00      1.00      1.00   3669539\n",
      "\n",
      "1.0\n",
      "\n",
      "TEST DATA:\n",
      "              precision    recall  f1-score   support\n",
      "\n",
      "      normal       1.00      1.00      1.00    263766\n",
      "    malicous       1.00      1.00      1.00    143961\n",
      "\n",
      "    accuracy                           1.00    407727\n",
      "   macro avg       1.00      1.00      1.00    407727\n",
      "weighted avg       1.00      1.00      1.00    407727\n",
      "\n",
      "0.9999975473785155\n"
     ]
    }
   ],
   "source": [
    "from sklearn import metrics\n",
    "print(\"\\nTRAINING DATA:\")\n",
    "print(classification_report(y_train, y_tr_pred6, target_names=['normal', 'malicous']))\n",
    "print(metrics.accuracy_score(y_train, y_tr_pred6))\n",
    "\n",
    "print(\"\\nTEST DATA:\")\n",
    "print(classification_report(y_test, y_pred6, target_names=['normal', 'malicous']))\n",
    "print(metrics.accuracy_score(y_test, y_pred6))"
   ],
   "metadata": {
    "collapsed": false,
    "pycharm": {
     "name": "#%%\n"
    }
   }
  },
  {
   "cell_type": "code",
   "execution_count": 64,
   "outputs": [
    {
     "name": "stdout",
     "output_type": "stream",
     "text": [
      "Log-loss function on training data =  9.99200722162641e-16\n",
      "Log-loss function on testing data =  8.47105450345895e-05\n"
     ]
    }
   ],
   "source": [
    "from sklearn.metrics import log_loss\n",
    "print('Log-loss function on training data = ',log_loss(y_train,y_tr_pred6))\n",
    "print('Log-loss function on testing data = ',log_loss(y_test,y_pred6))"
   ],
   "metadata": {
    "collapsed": false,
    "pycharm": {
     "name": "#%%\n"
    }
   }
  },
  {
   "cell_type": "code",
   "execution_count": 65,
   "outputs": [
    {
     "name": "stdout",
     "output_type": "stream",
     "text": [
      "Number of 0's and 1's in y_train dataset:\n",
      "0    2373896\n",
      "1    1295643\n",
      "Name: x, dtype: int64\n",
      "\n",
      "CONFUSION MATRIX FOR TRAINING SET: \n",
      " [[2373896       0]\n",
      " [      0 1295643]]\n",
      "\n",
      "Number of 0's and 1's in y_test dataset:\n",
      "0    263766\n",
      "1    143961\n",
      "Name: x, dtype: int64\n",
      "\n",
      "CONFUSION MATRIX FOR TESTING SET: \n",
      " [[263766      0]\n",
      " [     1 143960]]\n"
     ]
    }
   ],
   "source": [
    "print(\"Number of 0's and 1's in y_train dataset:\")\n",
    "print(y_train['x'].value_counts())\n",
    "print(\"\\nCONFUSION MATRIX FOR TRAINING SET: \\n {}\".format(confusion_matrix(y_train, y_tr_pred6)))\n",
    "\n",
    "print(\"\\nNumber of 0's and 1's in y_test dataset:\")\n",
    "print(y_test['x'].value_counts())\n",
    "print(\"\\nCONFUSION MATRIX FOR TESTING SET: \\n {}\".format(confusion_matrix(y_test, y_pred6)))"
   ],
   "metadata": {
    "collapsed": false,
    "pycharm": {
     "name": "#%%\n"
    }
   }
  },
  {
   "cell_type": "code",
   "execution_count": 66,
   "outputs": [
    {
     "data": {
      "text/plain": "<Figure size 500x500 with 2 Axes>",
      "image/png": "[encoded data removed]"
     },
     "metadata": {},
     "output_type": "display_data"
    }
   ],
   "source": [
    "cm=confusion_matrix(y_true6,y_pred6)\n",
    "f,ax=plt.subplots(figsize=(5,5))\n",
    "sns.heatmap(cm,annot=True,linewidth=0.5,linecolor=\"red\",fmt=\".0f\",ax=ax)\n",
    "plt.xlabel(\"y_pred\")\n",
    "plt.ylabel(\"y_true\")\n",
    "plt.show()"
   ],
   "metadata": {
    "collapsed": false,
    "pycharm": {
     "name": "#%%\n"
    }
   }
  },
  {
   "cell_type": "markdown",
   "source": [
    "For AUC SCORE & ROC CURVE"
   ],
   "metadata": {
    "collapsed": false,
    "pycharm": {
     "name": "#%% md\n"
    }
   }
  },
  {
   "cell_type": "code",
   "execution_count": 91,
   "outputs": [
    {
     "name": "stdout",
     "output_type": "stream",
     "text": [
      "DECISION TREE SCORES:\n",
      "On 80:20  0.9999982634125333\n",
      "On 70:30  0.9999988422736819\n",
      "On 90:10  0.9999965268371295\n",
      "\n",
      "RANDOM FOREST SCORES:\n",
      "On 80:20  1.0\n",
      "On 70:30  1.0\n",
      "On 90:10  1.0\n"
     ]
    }
   ],
   "source": [
    "print(\"DECISION TREE SCORES:\")\n",
    "print(\"On 80:20 \",aucscore1)\n",
    "print(\"On 70:30 \",aucscore2)\n",
    "print(\"On 90:10 \",aucscore3)\n",
    "\n",
    "print(\"\\nRANDOM FOREST SCORES:\")\n",
    "print(\"On 80:20 \",aucscore4)\n",
    "print(\"On 70:30 \",aucscore5)\n",
    "print(\"On 90:10 \",aucscore6)"
   ],
   "metadata": {
    "collapsed": false,
    "pycharm": {
     "name": "#%%\n"
    }
   }
  },
  {
   "cell_type": "code",
   "execution_count": 92,
   "outputs": [
    {
     "data": {
      "text/plain": "<Figure size 640x480 with 1 Axes>",
      "image/png": "[encoded data removed]"
     },
     "metadata": {},
     "output_type": "display_data"
    }
   ],
   "source": [
    "# plot roc curves\n",
    "plt.plot(fpr1, tpr1, linestyle='-',color='red', label='Decision Tree')\n",
    "plt.plot(fpr4, tpr4, linestyle='--',color='green', label='Random Forest')\n",
    "plt.plot(p_fpr1, p_tpr1, linestyle='--', color='blue')\n",
    "# title\n",
    "plt.title('ROC curve (80:20)')\n",
    "# x label\n",
    "plt.xlabel('False Positive Rate')\n",
    "# y label\n",
    "plt.ylabel('True Positive rate')\n",
    "\n",
    "plt.legend(loc='best')\n",
    "plt.savefig('ROC',dpi=300)\n",
    "plt.show();"
   ],
   "metadata": {
    "collapsed": false,
    "pycharm": {
     "name": "#%%\n"
    }
   }
  },
  {
   "cell_type": "code",
   "execution_count": 93,
   "outputs": [
    {
     "data": {
      "text/plain": "<Figure size 640x480 with 1 Axes>",
      "image/png": "[encoded data removed]"
     },
     "metadata": {},
     "output_type": "display_data"
    }
   ],
   "source": [
    "# plot roc curves\n",
    "plt.plot(fpr2, tpr2, linestyle='-',color='red', label='Decision Tree')\n",
    "plt.plot(fpr5, tpr5, linestyle='--',color='green', label='Random Forest')\n",
    "plt.plot(p_fpr2, p_tpr2, linestyle='--', color='blue')\n",
    "# title\n",
    "plt.title('ROC curve (70:30)')\n",
    "# x label\n",
    "plt.xlabel('False Positive Rate')\n",
    "# y label\n",
    "plt.ylabel('True Positive rate')\n",
    "\n",
    "plt.legend(loc='best')\n",
    "plt.savefig('ROC',dpi=300)\n",
    "plt.show();"
   ],
   "metadata": {
    "collapsed": false,
    "pycharm": {
     "name": "#%%\n"
    }
   }
  },
  {
   "cell_type": "code",
   "execution_count": 94,
   "outputs": [
    {
     "data": {
      "text/plain": "<Figure size 640x480 with 1 Axes>",
      "image/png": "[encoded data removed]"
     },
     "metadata": {},
     "output_type": "display_data"
    }
   ],
   "source": [
    "# plot roc curves\n",
    "plt.plot(fpr3, tpr3, linestyle='-',color='red', label='Decision Tree')\n",
    "plt.plot(fpr6, tpr6, linestyle='--',color='green', label='Random Forest')\n",
    "plt.plot(p_fpr3, p_tpr3, linestyle='--', color='blue')\n",
    "# title\n",
    "plt.title('ROC curve (90:10)')\n",
    "# x label\n",
    "plt.xlabel('False Positive Rate')\n",
    "# y label\n",
    "plt.ylabel('True Positive rate')\n",
    "\n",
    "plt.legend(loc='best')\n",
    "plt.savefig('ROC',dpi=300)\n",
    "plt.show();"
   ],
   "metadata": {
    "collapsed": false,
    "pycharm": {
     "name": "#%%\n"
    }
   }
  }
 ],
 "metadata": {
  "kernelspec": {
   "display_name": "Python 3",
   "language": "python",
   "name": "python3"
  },
  "language_info": {
   "codemirror_mode": {
    "name": "ipython",
    "version": 2
   },
   "file_extension": ".py",
   "mimetype": "text/x-python",
   "name": "python",
   "nbconvert_exporter": "python",
   "pygments_lexer": "ipython2",
   "version": "2.7.6"
  }
 },
 "nbformat": 4,
 "nbformat_minor": 0
}