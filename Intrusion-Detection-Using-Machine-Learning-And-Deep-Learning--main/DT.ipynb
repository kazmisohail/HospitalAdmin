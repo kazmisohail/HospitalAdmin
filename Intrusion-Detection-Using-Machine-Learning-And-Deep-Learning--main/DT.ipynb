{
 "cells": [
  {
   "cell_type": "code",
   "execution_count": 1,
   "outputs": [],
   "source": [
    "import pandas as pd"
   ],
   "metadata": {
    "collapsed": false,
    "pycharm": {
     "name": "#%%\n"
    }
   }
  },
  {
   "cell_type": "markdown",
   "source": [
    "Loading ARP_MITM dataset"
   ],
   "metadata": {
    "collapsed": false,
    "pycharm": {
     "name": "#%% md\n"
    }
   }
  },
  {
   "cell_type": "code",
   "execution_count": 1,
   "outputs": [
    {
     "ename": "NameError",
     "evalue": "name 'pd' is not defined",
     "output_type": "error",
     "traceback": [
      "\u001B[1;31m---------------------------------------------------------------------------\u001B[0m",
      "\u001B[1;31mNameError\u001B[0m                                 Traceback (most recent call last)",
      "Cell \u001B[1;32mIn [1], line 1\u001B[0m\n\u001B[1;32m----> 1\u001B[0m x1 \u001B[38;5;241m=\u001B[39m pd\u001B[38;5;241m.\u001B[39mread_csv(\u001B[38;5;124mr\u001B[39m\u001B[38;5;124m'\u001B[39m\u001B[38;5;124mD:/FYP dataset/ARP MitM/ARP_MitM_dataset.csv\u001B[39m\u001B[38;5;124m'\u001B[39m,header\u001B[38;5;241m=\u001B[39m\u001B[38;5;28;01mNone\u001B[39;00m)\n\u001B[0;32m      2\u001B[0m x1\n",
      "\u001B[1;31mNameError\u001B[0m: name 'pd' is not defined"
     ]
    }
   ],
   "source": [
    "x1 = pd.read_csv(r'D:/FYP dataset/ARP MitM/ARP_MitM_dataset.csv',header=None)\n",
    "x1"
   ],
   "metadata": {
    "collapsed": false,
    "pycharm": {
     "name": "#%%\n"
    }
   }
  },
  {
   "cell_type": "markdown",
   "source": [
    "Loading the labels of ARP_MITM dataset"
   ],
   "metadata": {
    "collapsed": false,
    "pycharm": {
     "name": "#%% md\n"
    }
   }
  },
  {
   "cell_type": "code",
   "execution_count": 3,
   "outputs": [
    {
     "data": {
      "text/plain": "         Unnamed: 0  x\n0                 1  0\n1                 2  0\n2                 3  0\n3                 4  0\n4                 5  0\n...             ... ..\n2504262     2504263  1\n2504263     2504264  1\n2504264     2504265  1\n2504265     2504266  1\n2504266     2504267  1\n\n[2504267 rows x 2 columns]",
      "text/html": "<div>\n<style scoped>\n    .dataframe tbody tr th:only-of-type {\n        vertical-align: middle;\n    }\n\n    .dataframe tbody tr th {\n        vertical-align: top;\n    }\n\n    .dataframe thead th {\n        text-align: right;\n    }\n</style>\n<table border=\"1\" class=\"dataframe\">\n  <thead>\n    <tr style=\"text-align: right;\">\n      <th></th>\n      <th>Unnamed: 0</th>\n      <th>x</th>\n    </tr>\n  </thead>\n  <tbody>\n    <tr>\n      <th>0</th>\n      <td>1</td>\n      <td>0</td>\n    </tr>\n    <tr>\n      <th>1</th>\n      <td>2</td>\n      <td>0</td>\n    </tr>\n    <tr>\n      <th>2</th>\n      <td>3</td>\n      <td>0</td>\n    </tr>\n    <tr>\n      <th>3</th>\n      <td>4</td>\n      <td>0</td>\n    </tr>\n    <tr>\n      <th>4</th>\n      <td>5</td>\n      <td>0</td>\n    </tr>\n    <tr>\n      <th>...</th>\n      <td>...</td>\n      <td>...</td>\n    </tr>\n    <tr>\n      <th>2504262</th>\n      <td>2504263</td>\n      <td>1</td>\n    </tr>\n    <tr>\n      <th>2504263</th>\n      <td>2504264</td>\n      <td>1</td>\n    </tr>\n    <tr>\n      <th>2504264</th>\n      <td>2504265</td>\n      <td>1</td>\n    </tr>\n    <tr>\n      <th>2504265</th>\n      <td>2504266</td>\n      <td>1</td>\n    </tr>\n    <tr>\n      <th>2504266</th>\n      <td>2504267</td>\n      <td>1</td>\n    </tr>\n  </tbody>\n</table>\n<p>2504267 rows × 2 columns</p>\n</div>"
     },
     "execution_count": 3,
     "metadata": {},
     "output_type": "execute_result"
    }
   ],
   "source": [
    "y1 = pd.read_csv(r'D:/FYP dataset/ARP MitM/ARP_MitM_labels.csv')\n",
    "y1"
   ],
   "metadata": {
    "collapsed": false,
    "pycharm": {
     "name": "#%%\n"
    }
   }
  },
  {
   "cell_type": "markdown",
   "source": [
    "Loading SSDP FLOOD dataset"
   ],
   "metadata": {
    "collapsed": false,
    "pycharm": {
     "name": "#%% md\n"
    }
   }
  },
  {
   "cell_type": "code",
   "execution_count": 4,
   "outputs": [
    {
     "data": {
      "text/plain": "                 0           1             2             3           4    \\\n0           1.000000  209.000000  0.000000e+00      1.000000  209.000000   \n1           1.997162  830.381872  3.850195e+05      1.998296  830.029123   \n2           2.996940  586.005354  3.758057e+05      2.998163  585.869927   \n3           3.994740  802.288440  4.218196e+05      3.996842  802.073133   \n4           4.994129  661.265167  4.167900e+05      4.996476  661.159177   \n...              ...         ...           ...           ...         ...   \n4077261  7430.838735  136.000000  3.637979e-11  12386.459998  136.000000   \n4077262  7430.862528  136.000000  3.637979e-11  12386.483629  136.000000   \n4077263  7430.984547  136.000000  3.637979e-11  12386.605506  136.000000   \n4077264  7430.105886  136.000000  3.637979e-11  12385.726502  136.000000   \n4077265  7431.081328  136.000000  3.637979e-11  12386.701940  136.000000   \n\n                  5             6           7             8              9    \\\n0        0.000000e+00      1.000000  209.000000  0.000000e+00       1.000000   \n1        3.850200e+05      1.999432  829.676374  3.850202e+05       1.999943   \n2        3.757193e+05      2.999387  585.734436  3.756328e+05       2.999939   \n3        4.217991e+05      3.998947  801.857734  4.217785e+05       3.999895   \n4        4.167368e+05      4.998825  661.053084  4.166835e+05       4.999882   \n...               ...           ...         ...           ...            ...   \n4077261  8.731149e-11  37157.800970  136.000000  1.928129e-10  354099.428872   \n4077262  8.731149e-11  37157.824617  136.000000  1.928129e-10  354099.498434   \n4077263  8.731149e-11  37157.946511  136.000000  2.037268e-10  354099.661625   \n4077264  8.731149e-11  37157.067507  136.000000  2.000888e-10  354098.870972   \n4077265  8.731149e-11  37158.042945  136.000000  1.891749e-10  354099.847565   \n\n         ...           105  106  107        108          109        110  \\\n0        ...  0.000000e+00  0.0  0.0   1.000000   209.000000   0.000000   \n1        ...  0.000000e+00  0.0  0.0   1.000000  1450.000000   0.000000   \n2        ...  3.080250e+03  0.0  0.0   1.999994   153.499836  55.500000   \n3        ...  0.000000e+00  0.0  0.0   1.999998  1450.000000   0.000022   \n4        ...  2.737938e+03  0.0  0.0   2.999991   134.999832  52.325843   \n...      ...           ...  ...  ...        ...          ...        ...   \n4077261  ...  7.275958e-12  0.0  0.0  22.486489   136.000000   0.000000   \n4077262  ...  0.000000e+00  0.0  0.0  26.717578   136.000000   0.000000   \n4077263  ...  3.637979e-12  0.0  0.0  16.136518   136.000000   0.000003   \n4077264  ...  0.000000e+00  0.0  0.0  12.443898   136.000000   0.000003   \n4077265  ...  3.637979e-12  0.0  0.0  15.575927   136.000000   0.000003   \n\n                 111           112  113  114  \n0         209.000000  0.000000e+00  0.0  0.0  \n1        1450.000000  0.000000e+00  0.0  0.0  \n2         153.499836  3.080250e+03  0.0  0.0  \n3        1450.000000  4.656613e-10  0.0  0.0  \n4         134.999832  2.737994e+03  0.0  0.0  \n...              ...           ...  ...  ...  \n4077261   136.000000  0.000000e+00  0.0  0.0  \n4077262   136.000000  0.000000e+00  0.0  0.0  \n4077263   136.000000  1.091394e-11  0.0  0.0  \n4077264   136.000000  7.275958e-12  0.0  0.0  \n4077265   136.000000  7.275958e-12  0.0  0.0  \n\n[4077266 rows x 115 columns]",
      "text/html": "<div>\n<style scoped>\n    .dataframe tbody tr th:only-of-type {\n        vertical-align: middle;\n    }\n\n    .dataframe tbody tr th {\n        vertical-align: top;\n    }\n\n    .dataframe thead th {\n        text-align: right;\n    }\n</style>\n<table border=\"1\" class=\"dataframe\">\n  <thead>\n    <tr style=\"text-align: right;\">\n      <th></th>\n      <th>0</th>\n      <th>1</th>\n      <th>2</th>\n      <th>3</th>\n      <th>4</th>\n      <th>5</th>\n      <th>6</th>\n      <th>7</th>\n      <th>8</th>\n      <th>9</th>\n      <th>...</th>\n      <th>105</th>\n      <th>106</th>\n      <th>107</th>\n      <th>108</th>\n      <th>109</th>\n      <th>110</th>\n      <th>111</th>\n      <th>112</th>\n      <th>113</th>\n      <th>114</th>\n    </tr>\n  </thead>\n  <tbody>\n    <tr>\n      <th>0</th>\n      <td>1.000000</td>\n      <td>209.000000</td>\n      <td>0.000000e+00</td>\n      <td>1.000000</td>\n      <td>209.000000</td>\n      <td>0.000000e+00</td>\n      <td>1.000000</td>\n      <td>209.000000</td>\n      <td>0.000000e+00</td>\n      <td>1.000000</td>\n      <td>...</td>\n      <td>0.000000e+00</td>\n      <td>0.0</td>\n      <td>0.0</td>\n      <td>1.000000</td>\n      <td>209.000000</td>\n      <td>0.000000</td>\n      <td>209.000000</td>\n      <td>0.000000e+00</td>\n      <td>0.0</td>\n      <td>0.0</td>\n    </tr>\n    <tr>\n      <th>1</th>\n      <td>1.997162</td>\n      <td>830.381872</td>\n      <td>3.850195e+05</td>\n      <td>1.998296</td>\n      <td>830.029123</td>\n      <td>3.850200e+05</td>\n      <td>1.999432</td>\n      <td>829.676374</td>\n      <td>3.850202e+05</td>\n      <td>1.999943</td>\n      <td>...</td>\n      <td>0.000000e+00</td>\n      <td>0.0</td>\n      <td>0.0</td>\n      <td>1.000000</td>\n      <td>1450.000000</td>\n      <td>0.000000</td>\n      <td>1450.000000</td>\n      <td>0.000000e+00</td>\n      <td>0.0</td>\n      <td>0.0</td>\n    </tr>\n    <tr>\n      <th>2</th>\n      <td>2.996940</td>\n      <td>586.005354</td>\n      <td>3.758057e+05</td>\n      <td>2.998163</td>\n      <td>585.869927</td>\n      <td>3.757193e+05</td>\n      <td>2.999387</td>\n      <td>585.734436</td>\n      <td>3.756328e+05</td>\n      <td>2.999939</td>\n      <td>...</td>\n      <td>3.080250e+03</td>\n      <td>0.0</td>\n      <td>0.0</td>\n      <td>1.999994</td>\n      <td>153.499836</td>\n      <td>55.500000</td>\n      <td>153.499836</td>\n      <td>3.080250e+03</td>\n      <td>0.0</td>\n      <td>0.0</td>\n    </tr>\n    <tr>\n      <th>3</th>\n      <td>3.994740</td>\n      <td>802.288440</td>\n      <td>4.218196e+05</td>\n      <td>3.996842</td>\n      <td>802.073133</td>\n      <td>4.217991e+05</td>\n      <td>3.998947</td>\n      <td>801.857734</td>\n      <td>4.217785e+05</td>\n      <td>3.999895</td>\n      <td>...</td>\n      <td>0.000000e+00</td>\n      <td>0.0</td>\n      <td>0.0</td>\n      <td>1.999998</td>\n      <td>1450.000000</td>\n      <td>0.000022</td>\n      <td>1450.000000</td>\n      <td>4.656613e-10</td>\n      <td>0.0</td>\n      <td>0.0</td>\n    </tr>\n    <tr>\n      <th>4</th>\n      <td>4.994129</td>\n      <td>661.265167</td>\n      <td>4.167900e+05</td>\n      <td>4.996476</td>\n      <td>661.159177</td>\n      <td>4.167368e+05</td>\n      <td>4.998825</td>\n      <td>661.053084</td>\n      <td>4.166835e+05</td>\n      <td>4.999882</td>\n      <td>...</td>\n      <td>2.737938e+03</td>\n      <td>0.0</td>\n      <td>0.0</td>\n      <td>2.999991</td>\n      <td>134.999832</td>\n      <td>52.325843</td>\n      <td>134.999832</td>\n      <td>2.737994e+03</td>\n      <td>0.0</td>\n      <td>0.0</td>\n    </tr>\n    <tr>\n      <th>...</th>\n      <td>...</td>\n      <td>...</td>\n      <td>...</td>\n      <td>...</td>\n      <td>...</td>\n      <td>...</td>\n      <td>...</td>\n      <td>...</td>\n      <td>...</td>\n      <td>...</td>\n      <td>...</td>\n      <td>...</td>\n      <td>...</td>\n      <td>...</td>\n      <td>...</td>\n      <td>...</td>\n      <td>...</td>\n      <td>...</td>\n      <td>...</td>\n      <td>...</td>\n      <td>...</td>\n    </tr>\n    <tr>\n      <th>4077261</th>\n      <td>7430.838735</td>\n      <td>136.000000</td>\n      <td>3.637979e-11</td>\n      <td>12386.459998</td>\n      <td>136.000000</td>\n      <td>8.731149e-11</td>\n      <td>37157.800970</td>\n      <td>136.000000</td>\n      <td>1.928129e-10</td>\n      <td>354099.428872</td>\n      <td>...</td>\n      <td>7.275958e-12</td>\n      <td>0.0</td>\n      <td>0.0</td>\n      <td>22.486489</td>\n      <td>136.000000</td>\n      <td>0.000000</td>\n      <td>136.000000</td>\n      <td>0.000000e+00</td>\n      <td>0.0</td>\n      <td>0.0</td>\n    </tr>\n    <tr>\n      <th>4077262</th>\n      <td>7430.862528</td>\n      <td>136.000000</td>\n      <td>3.637979e-11</td>\n      <td>12386.483629</td>\n      <td>136.000000</td>\n      <td>8.731149e-11</td>\n      <td>37157.824617</td>\n      <td>136.000000</td>\n      <td>1.928129e-10</td>\n      <td>354099.498434</td>\n      <td>...</td>\n      <td>0.000000e+00</td>\n      <td>0.0</td>\n      <td>0.0</td>\n      <td>26.717578</td>\n      <td>136.000000</td>\n      <td>0.000000</td>\n      <td>136.000000</td>\n      <td>0.000000e+00</td>\n      <td>0.0</td>\n      <td>0.0</td>\n    </tr>\n    <tr>\n      <th>4077263</th>\n      <td>7430.984547</td>\n      <td>136.000000</td>\n      <td>3.637979e-11</td>\n      <td>12386.605506</td>\n      <td>136.000000</td>\n      <td>8.731149e-11</td>\n      <td>37157.946511</td>\n      <td>136.000000</td>\n      <td>2.037268e-10</td>\n      <td>354099.661625</td>\n      <td>...</td>\n      <td>3.637979e-12</td>\n      <td>0.0</td>\n      <td>0.0</td>\n      <td>16.136518</td>\n      <td>136.000000</td>\n      <td>0.000003</td>\n      <td>136.000000</td>\n      <td>1.091394e-11</td>\n      <td>0.0</td>\n      <td>0.0</td>\n    </tr>\n    <tr>\n      <th>4077264</th>\n      <td>7430.105886</td>\n      <td>136.000000</td>\n      <td>3.637979e-11</td>\n      <td>12385.726502</td>\n      <td>136.000000</td>\n      <td>8.731149e-11</td>\n      <td>37157.067507</td>\n      <td>136.000000</td>\n      <td>2.000888e-10</td>\n      <td>354098.870972</td>\n      <td>...</td>\n      <td>0.000000e+00</td>\n      <td>0.0</td>\n      <td>0.0</td>\n      <td>12.443898</td>\n      <td>136.000000</td>\n      <td>0.000003</td>\n      <td>136.000000</td>\n      <td>7.275958e-12</td>\n      <td>0.0</td>\n      <td>0.0</td>\n    </tr>\n    <tr>\n      <th>4077265</th>\n      <td>7431.081328</td>\n      <td>136.000000</td>\n      <td>3.637979e-11</td>\n      <td>12386.701940</td>\n      <td>136.000000</td>\n      <td>8.731149e-11</td>\n      <td>37158.042945</td>\n      <td>136.000000</td>\n      <td>1.891749e-10</td>\n      <td>354099.847565</td>\n      <td>...</td>\n      <td>3.637979e-12</td>\n      <td>0.0</td>\n      <td>0.0</td>\n      <td>15.575927</td>\n      <td>136.000000</td>\n      <td>0.000003</td>\n      <td>136.000000</td>\n      <td>7.275958e-12</td>\n      <td>0.0</td>\n      <td>0.0</td>\n    </tr>\n  </tbody>\n</table>\n<p>4077266 rows × 115 columns</p>\n</div>"
     },
     "execution_count": 4,
     "metadata": {},
     "output_type": "execute_result"
    }
   ],
   "source": [
    "x2 = pd.read_csv(r'D:/FYP dataset/SSDP Flood/SSDP_Flood_dataset.csv',header=None)\n",
    "x2"
   ],
   "metadata": {
    "collapsed": false,
    "pycharm": {
     "name": "#%%\n"
    }
   }
  },
  {
   "cell_type": "markdown",
   "source": [
    "Loading the labels of SSDP FLOOD dataset"
   ],
   "metadata": {
    "collapsed": false,
    "pycharm": {
     "name": "#%% md\n"
    }
   }
  },
  {
   "cell_type": "code",
   "execution_count": 5,
   "outputs": [
    {
     "data": {
      "text/plain": "         Unnamed: 0  x\n0                 1  0\n1                 2  0\n2                 3  0\n3                 4  0\n4                 5  0\n...             ... ..\n4077261     4077262  1\n4077262     4077263  1\n4077263     4077264  1\n4077264     4077265  1\n4077265     4077266  1\n\n[4077266 rows x 2 columns]",
      "text/html": "<div>\n<style scoped>\n    .dataframe tbody tr th:only-of-type {\n        vertical-align: middle;\n    }\n\n    .dataframe tbody tr th {\n        vertical-align: top;\n    }\n\n    .dataframe thead th {\n        text-align: right;\n    }\n</style>\n<table border=\"1\" class=\"dataframe\">\n  <thead>\n    <tr style=\"text-align: right;\">\n      <th></th>\n      <th>Unnamed: 0</th>\n      <th>x</th>\n    </tr>\n  </thead>\n  <tbody>\n    <tr>\n      <th>0</th>\n      <td>1</td>\n      <td>0</td>\n    </tr>\n    <tr>\n      <th>1</th>\n      <td>2</td>\n      <td>0</td>\n    </tr>\n    <tr>\n      <th>2</th>\n      <td>3</td>\n      <td>0</td>\n    </tr>\n    <tr>\n      <th>3</th>\n      <td>4</td>\n      <td>0</td>\n    </tr>\n    <tr>\n      <th>4</th>\n      <td>5</td>\n      <td>0</td>\n    </tr>\n    <tr>\n      <th>...</th>\n      <td>...</td>\n      <td>...</td>\n    </tr>\n    <tr>\n      <th>4077261</th>\n      <td>4077262</td>\n      <td>1</td>\n    </tr>\n    <tr>\n      <th>4077262</th>\n      <td>4077263</td>\n      <td>1</td>\n    </tr>\n    <tr>\n      <th>4077263</th>\n      <td>4077264</td>\n      <td>1</td>\n    </tr>\n    <tr>\n      <th>4077264</th>\n      <td>4077265</td>\n      <td>1</td>\n    </tr>\n    <tr>\n      <th>4077265</th>\n      <td>4077266</td>\n      <td>1</td>\n    </tr>\n  </tbody>\n</table>\n<p>4077266 rows × 2 columns</p>\n</div>"
     },
     "execution_count": 5,
     "metadata": {},
     "output_type": "execute_result"
    }
   ],
   "source": [
    "y2 = pd.read_csv(r'D:/FYP dataset/SSDP Flood/SSDP_Flood_labels.csv')\n",
    "y2"
   ],
   "metadata": {
    "collapsed": false,
    "pycharm": {
     "name": "#%%\n"
    }
   }
  },
  {
   "cell_type": "markdown",
   "source": [
    "Concatenating the features of ARP_MITM and SSDP FLOOD datasets"
   ],
   "metadata": {
    "collapsed": false,
    "pycharm": {
     "name": "#%% md\n"
    }
   }
  },
  {
   "cell_type": "code",
   "execution_count": 6,
   "outputs": [
    {
     "data": {
      "text/plain": "                 0       1             2             3       4    \\\n0           1.000000  1294.0  0.000000e+00      1.000000  1294.0   \n1           1.000000  1514.0  0.000000e+00      1.000000  1514.0   \n2           1.999505  1294.0  6.984919e-10      1.999703  1294.0   \n3           2.998985  1294.0  9.313226e-10      2.999391  1294.0   \n4           3.998061  1294.0  9.313226e-10      3.998836  1294.0   \n...              ...     ...           ...           ...     ...   \n4077261  7430.838735   136.0  3.637979e-11  12386.459998   136.0   \n4077262  7430.862528   136.0  3.637979e-11  12386.483629   136.0   \n4077263  7430.984547   136.0  3.637979e-11  12386.605506   136.0   \n4077264  7430.105886   136.0  3.637979e-11  12385.726502   136.0   \n4077265  7431.081328   136.0  3.637979e-11  12386.701940   136.0   \n\n                  5             6       7             8              9    ...  \\\n0        0.000000e+00      1.000000  1294.0  0.000000e+00       1.000000  ...   \n1        0.000000e+00      1.000000  1514.0  0.000000e+00       1.000000  ...   \n2        2.328306e-10      1.999901  1294.0  6.984919e-10       1.999990  ...   \n3        4.656613e-10      2.999797  1294.0  6.984919e-10       2.999980  ...   \n4        2.328306e-10      3.999612  1294.0  6.984919e-10       3.999961  ...   \n...               ...           ...     ...           ...            ...  ...   \n4077261  8.731149e-11  37157.800970   136.0  1.928129e-10  354099.428872  ...   \n4077262  8.731149e-11  37157.824617   136.0  1.928129e-10  354099.498434  ...   \n4077263  8.731149e-11  37157.946511   136.0  2.037268e-10  354099.661625  ...   \n4077264  8.731149e-11  37157.067507   136.0  2.000888e-10  354098.870972  ...   \n4077265  8.731149e-11  37158.042945   136.0  1.891749e-10  354099.847565  ...   \n\n                  105  106  107        108     109       110     111  \\\n0        0.000000e+00  0.0  0.0   1.000000  1294.0  0.000000  1294.0   \n1        0.000000e+00  0.0  0.0   1.000000  1514.0  0.000000  1514.0   \n2        0.000000e+00  0.0  0.0   1.999999  1294.0  0.000000  1294.0   \n3        6.984919e-10  0.0  0.0   2.999998  1294.0  0.000015  1294.0   \n4        2.328306e-10  0.0  0.0   3.999996  1294.0  0.000000  1294.0   \n...               ...  ...  ...        ...     ...       ...     ...   \n4077261  7.275958e-12  0.0  0.0  22.486489   136.0  0.000000   136.0   \n4077262  0.000000e+00  0.0  0.0  26.717578   136.0  0.000000   136.0   \n4077263  3.637979e-12  0.0  0.0  16.136518   136.0  0.000003   136.0   \n4077264  0.000000e+00  0.0  0.0  12.443898   136.0  0.000003   136.0   \n4077265  3.637979e-12  0.0  0.0  15.575927   136.0  0.000003   136.0   \n\n                  112  113  114  \n0        0.000000e+00  0.0  0.0  \n1        0.000000e+00  0.0  0.0  \n2        0.000000e+00  0.0  0.0  \n3        2.328306e-10  0.0  0.0  \n4        0.000000e+00  0.0  0.0  \n...               ...  ...  ...  \n4077261  0.000000e+00  0.0  0.0  \n4077262  0.000000e+00  0.0  0.0  \n4077263  1.091394e-11  0.0  0.0  \n4077264  7.275958e-12  0.0  0.0  \n4077265  7.275958e-12  0.0  0.0  \n\n[6581533 rows x 115 columns]",
      "text/html": "<div>\n<style scoped>\n    .dataframe tbody tr th:only-of-type {\n        vertical-align: middle;\n    }\n\n    .dataframe tbody tr th {\n        vertical-align: top;\n    }\n\n    .dataframe thead th {\n        text-align: right;\n    }\n</style>\n<table border=\"1\" class=\"dataframe\">\n  <thead>\n    <tr style=\"text-align: right;\">\n      <th></th>\n      <th>0</th>\n      <th>1</th>\n      <th>2</th>\n      <th>3</th>\n      <th>4</th>\n      <th>5</th>\n      <th>6</th>\n      <th>7</th>\n      <th>8</th>\n      <th>9</th>\n      <th>...</th>\n      <th>105</th>\n      <th>106</th>\n      <th>107</th>\n      <th>108</th>\n      <th>109</th>\n      <th>110</th>\n      <th>111</th>\n      <th>112</th>\n      <th>113</th>\n      <th>114</th>\n    </tr>\n  </thead>\n  <tbody>\n    <tr>\n      <th>0</th>\n      <td>1.000000</td>\n      <td>1294.0</td>\n      <td>0.000000e+00</td>\n      <td>1.000000</td>\n      <td>1294.0</td>\n      <td>0.000000e+00</td>\n      <td>1.000000</td>\n      <td>1294.0</td>\n      <td>0.000000e+00</td>\n      <td>1.000000</td>\n      <td>...</td>\n      <td>0.000000e+00</td>\n      <td>0.0</td>\n      <td>0.0</td>\n      <td>1.000000</td>\n      <td>1294.0</td>\n      <td>0.000000</td>\n      <td>1294.0</td>\n      <td>0.000000e+00</td>\n      <td>0.0</td>\n      <td>0.0</td>\n    </tr>\n    <tr>\n      <th>1</th>\n      <td>1.000000</td>\n      <td>1514.0</td>\n      <td>0.000000e+00</td>\n      <td>1.000000</td>\n      <td>1514.0</td>\n      <td>0.000000e+00</td>\n      <td>1.000000</td>\n      <td>1514.0</td>\n      <td>0.000000e+00</td>\n      <td>1.000000</td>\n      <td>...</td>\n      <td>0.000000e+00</td>\n      <td>0.0</td>\n      <td>0.0</td>\n      <td>1.000000</td>\n      <td>1514.0</td>\n      <td>0.000000</td>\n      <td>1514.0</td>\n      <td>0.000000e+00</td>\n      <td>0.0</td>\n      <td>0.0</td>\n    </tr>\n    <tr>\n      <th>2</th>\n      <td>1.999505</td>\n      <td>1294.0</td>\n      <td>6.984919e-10</td>\n      <td>1.999703</td>\n      <td>1294.0</td>\n      <td>2.328306e-10</td>\n      <td>1.999901</td>\n      <td>1294.0</td>\n      <td>6.984919e-10</td>\n      <td>1.999990</td>\n      <td>...</td>\n      <td>0.000000e+00</td>\n      <td>0.0</td>\n      <td>0.0</td>\n      <td>1.999999</td>\n      <td>1294.0</td>\n      <td>0.000000</td>\n      <td>1294.0</td>\n      <td>0.000000e+00</td>\n      <td>0.0</td>\n      <td>0.0</td>\n    </tr>\n    <tr>\n      <th>3</th>\n      <td>2.998985</td>\n      <td>1294.0</td>\n      <td>9.313226e-10</td>\n      <td>2.999391</td>\n      <td>1294.0</td>\n      <td>4.656613e-10</td>\n      <td>2.999797</td>\n      <td>1294.0</td>\n      <td>6.984919e-10</td>\n      <td>2.999980</td>\n      <td>...</td>\n      <td>6.984919e-10</td>\n      <td>0.0</td>\n      <td>0.0</td>\n      <td>2.999998</td>\n      <td>1294.0</td>\n      <td>0.000015</td>\n      <td>1294.0</td>\n      <td>2.328306e-10</td>\n      <td>0.0</td>\n      <td>0.0</td>\n    </tr>\n    <tr>\n      <th>4</th>\n      <td>3.998061</td>\n      <td>1294.0</td>\n      <td>9.313226e-10</td>\n      <td>3.998836</td>\n      <td>1294.0</td>\n      <td>2.328306e-10</td>\n      <td>3.999612</td>\n      <td>1294.0</td>\n      <td>6.984919e-10</td>\n      <td>3.999961</td>\n      <td>...</td>\n      <td>2.328306e-10</td>\n      <td>0.0</td>\n      <td>0.0</td>\n      <td>3.999996</td>\n      <td>1294.0</td>\n      <td>0.000000</td>\n      <td>1294.0</td>\n      <td>0.000000e+00</td>\n      <td>0.0</td>\n      <td>0.0</td>\n    </tr>\n    <tr>\n      <th>...</th>\n      <td>...</td>\n      <td>...</td>\n      <td>...</td>\n      <td>...</td>\n      <td>...</td>\n      <td>...</td>\n      <td>...</td>\n      <td>...</td>\n      <td>...</td>\n      <td>...</td>\n      <td>...</td>\n      <td>...</td>\n      <td>...</td>\n      <td>...</td>\n      <td>...</td>\n      <td>...</td>\n      <td>...</td>\n      <td>...</td>\n      <td>...</td>\n      <td>...</td>\n      <td>...</td>\n    </tr>\n    <tr>\n      <th>4077261</th>\n      <td>7430.838735</td>\n      <td>136.0</td>\n      <td>3.637979e-11</td>\n      <td>12386.459998</td>\n      <td>136.0</td>\n      <td>8.731149e-11</td>\n      <td>37157.800970</td>\n      <td>136.0</td>\n      <td>1.928129e-10</td>\n      <td>354099.428872</td>\n      <td>...</td>\n      <td>7.275958e-12</td>\n      <td>0.0</td>\n      <td>0.0</td>\n      <td>22.486489</td>\n      <td>136.0</td>\n      <td>0.000000</td>\n      <td>136.0</td>\n      <td>0.000000e+00</td>\n      <td>0.0</td>\n      <td>0.0</td>\n    </tr>\n    <tr>\n      <th>4077262</th>\n      <td>7430.862528</td>\n      <td>136.0</td>\n      <td>3.637979e-11</td>\n      <td>12386.483629</td>\n      <td>136.0</td>\n      <td>8.731149e-11</td>\n      <td>37157.824617</td>\n      <td>136.0</td>\n      <td>1.928129e-10</td>\n      <td>354099.498434</td>\n      <td>...</td>\n      <td>0.000000e+00</td>\n      <td>0.0</td>\n      <td>0.0</td>\n      <td>26.717578</td>\n      <td>136.0</td>\n      <td>0.000000</td>\n      <td>136.0</td>\n      <td>0.000000e+00</td>\n      <td>0.0</td>\n      <td>0.0</td>\n    </tr>\n    <tr>\n      <th>4077263</th>\n      <td>7430.984547</td>\n      <td>136.0</td>\n      <td>3.637979e-11</td>\n      <td>12386.605506</td>\n      <td>136.0</td>\n      <td>8.731149e-11</td>\n      <td>37157.946511</td>\n      <td>136.0</td>\n      <td>2.037268e-10</td>\n      <td>354099.661625</td>\n      <td>...</td>\n      <td>3.637979e-12</td>\n      <td>0.0</td>\n      <td>0.0</td>\n      <td>16.136518</td>\n      <td>136.0</td>\n      <td>0.000003</td>\n      <td>136.0</td>\n      <td>1.091394e-11</td>\n      <td>0.0</td>\n      <td>0.0</td>\n    </tr>\n    <tr>\n      <th>4077264</th>\n      <td>7430.105886</td>\n      <td>136.0</td>\n      <td>3.637979e-11</td>\n      <td>12385.726502</td>\n      <td>136.0</td>\n      <td>8.731149e-11</td>\n      <td>37157.067507</td>\n      <td>136.0</td>\n      <td>2.000888e-10</td>\n      <td>354098.870972</td>\n      <td>...</td>\n      <td>0.000000e+00</td>\n      <td>0.0</td>\n      <td>0.0</td>\n      <td>12.443898</td>\n      <td>136.0</td>\n      <td>0.000003</td>\n      <td>136.0</td>\n      <td>7.275958e-12</td>\n      <td>0.0</td>\n      <td>0.0</td>\n    </tr>\n    <tr>\n      <th>4077265</th>\n      <td>7431.081328</td>\n      <td>136.0</td>\n      <td>3.637979e-11</td>\n      <td>12386.701940</td>\n      <td>136.0</td>\n      <td>8.731149e-11</td>\n      <td>37158.042945</td>\n      <td>136.0</td>\n      <td>1.891749e-10</td>\n      <td>354099.847565</td>\n      <td>...</td>\n      <td>3.637979e-12</td>\n      <td>0.0</td>\n      <td>0.0</td>\n      <td>15.575927</td>\n      <td>136.0</td>\n      <td>0.000003</td>\n      <td>136.0</td>\n      <td>7.275958e-12</td>\n      <td>0.0</td>\n      <td>0.0</td>\n    </tr>\n  </tbody>\n</table>\n<p>6581533 rows × 115 columns</p>\n</div>"
     },
     "execution_count": 6,
     "metadata": {},
     "output_type": "execute_result"
    }
   ],
   "source": [
    "x = pd.concat([x1,x2])\n",
    "x"
   ],
   "metadata": {
    "collapsed": false,
    "pycharm": {
     "name": "#%%\n"
    }
   }
  },
  {
   "cell_type": "markdown",
   "source": [
    "Concatenating the labels of ARP_MITM and SSDP FLOOD datasets"
   ],
   "metadata": {
    "collapsed": false,
    "pycharm": {
     "name": "#%% md\n"
    }
   }
  },
  {
   "cell_type": "code",
   "execution_count": 7,
   "outputs": [
    {
     "data": {
      "text/plain": "         Unnamed: 0  x\n0                 1  0\n1                 2  0\n2                 3  0\n3                 4  0\n4                 5  0\n...             ... ..\n4077261     4077262  1\n4077262     4077263  1\n4077263     4077264  1\n4077264     4077265  1\n4077265     4077266  1\n\n[6581533 rows x 2 columns]",
      "text/html": "<div>\n<style scoped>\n    .dataframe tbody tr th:only-of-type {\n        vertical-align: middle;\n    }\n\n    .dataframe tbody tr th {\n        vertical-align: top;\n    }\n\n    .dataframe thead th {\n        text-align: right;\n    }\n</style>\n<table border=\"1\" class=\"dataframe\">\n  <thead>\n    <tr style=\"text-align: right;\">\n      <th></th>\n      <th>Unnamed: 0</th>\n      <th>x</th>\n    </tr>\n  </thead>\n  <tbody>\n    <tr>\n      <th>0</th>\n      <td>1</td>\n      <td>0</td>\n    </tr>\n    <tr>\n      <th>1</th>\n      <td>2</td>\n      <td>0</td>\n    </tr>\n    <tr>\n      <th>2</th>\n      <td>3</td>\n      <td>0</td>\n    </tr>\n    <tr>\n      <th>3</th>\n      <td>4</td>\n      <td>0</td>\n    </tr>\n    <tr>\n      <th>4</th>\n      <td>5</td>\n      <td>0</td>\n    </tr>\n    <tr>\n      <th>...</th>\n      <td>...</td>\n      <td>...</td>\n    </tr>\n    <tr>\n      <th>4077261</th>\n      <td>4077262</td>\n      <td>1</td>\n    </tr>\n    <tr>\n      <th>4077262</th>\n      <td>4077263</td>\n      <td>1</td>\n    </tr>\n    <tr>\n      <th>4077263</th>\n      <td>4077264</td>\n      <td>1</td>\n    </tr>\n    <tr>\n      <th>4077264</th>\n      <td>4077265</td>\n      <td>1</td>\n    </tr>\n    <tr>\n      <th>4077265</th>\n      <td>4077266</td>\n      <td>1</td>\n    </tr>\n  </tbody>\n</table>\n<p>6581533 rows × 2 columns</p>\n</div>"
     },
     "execution_count": 7,
     "metadata": {},
     "output_type": "execute_result"
    }
   ],
   "source": [
    "y = pd.concat([y1,y2])\n",
    "y"
   ],
   "metadata": {
    "collapsed": false,
    "pycharm": {
     "name": "#%%\n"
    }
   }
  },
  {
   "cell_type": "code",
   "execution_count": 8,
   "outputs": [],
   "source": [
    "import seaborn as sns\n",
    "import matplotlib.pyplot as plt\n",
    "from sklearn.model_selection import train_test_split\n",
    "from sklearn.metrics import classification_report,confusion_matrix,precision_recall_fscore_support\n",
    "from sklearn.tree import DecisionTreeClassifier"
   ],
   "metadata": {
    "collapsed": false,
    "pycharm": {
     "name": "#%%\n"
    }
   }
  },
  {
   "cell_type": "markdown",
   "source": [
    "Dropping the id column"
   ],
   "metadata": {
    "collapsed": false,
    "pycharm": {
     "name": "#%% md\n"
    }
   }
  },
  {
   "cell_type": "code",
   "execution_count": 9,
   "outputs": [
    {
     "data": {
      "text/plain": "         x\n0        0\n1        0\n2        0\n3        0\n4        0\n...     ..\n4077261  1\n4077262  1\n4077263  1\n4077264  1\n4077265  1\n\n[6581533 rows x 1 columns]",
      "text/html": "<div>\n<style scoped>\n    .dataframe tbody tr th:only-of-type {\n        vertical-align: middle;\n    }\n\n    .dataframe tbody tr th {\n        vertical-align: top;\n    }\n\n    .dataframe thead th {\n        text-align: right;\n    }\n</style>\n<table border=\"1\" class=\"dataframe\">\n  <thead>\n    <tr style=\"text-align: right;\">\n      <th></th>\n      <th>x</th>\n    </tr>\n  </thead>\n  <tbody>\n    <tr>\n      <th>0</th>\n      <td>0</td>\n    </tr>\n    <tr>\n      <th>1</th>\n      <td>0</td>\n    </tr>\n    <tr>\n      <th>2</th>\n      <td>0</td>\n    </tr>\n    <tr>\n      <th>3</th>\n      <td>0</td>\n    </tr>\n    <tr>\n      <th>4</th>\n      <td>0</td>\n    </tr>\n    <tr>\n      <th>...</th>\n      <td>...</td>\n    </tr>\n    <tr>\n      <th>4077261</th>\n      <td>1</td>\n    </tr>\n    <tr>\n      <th>4077262</th>\n      <td>1</td>\n    </tr>\n    <tr>\n      <th>4077263</th>\n      <td>1</td>\n    </tr>\n    <tr>\n      <th>4077264</th>\n      <td>1</td>\n    </tr>\n    <tr>\n      <th>4077265</th>\n      <td>1</td>\n    </tr>\n  </tbody>\n</table>\n<p>6581533 rows × 1 columns</p>\n</div>"
     },
     "execution_count": 9,
     "metadata": {},
     "output_type": "execute_result"
    }
   ],
   "source": [
    "y.drop('Unnamed: 0',inplace = True, axis=1)\n",
    "y"
   ],
   "metadata": {
    "collapsed": false,
    "pycharm": {
     "name": "#%%\n"
    }
   }
  },
  {
   "cell_type": "code",
   "execution_count": 10,
   "outputs": [
    {
     "name": "stdout",
     "output_type": "stream",
     "text": [
      "Number of 0's and 1's in y dataset:\n",
      "0    3996657\n",
      "1    2584876\n",
      "Name: x, dtype: int64\n"
     ]
    }
   ],
   "source": [
    "print(\"Number of 0's and 1's in y dataset:\")\n",
    "print(y['x'].value_counts())"
   ],
   "metadata": {
    "collapsed": false,
    "pycharm": {
     "name": "#%%\n"
    }
   }
  },
  {
   "cell_type": "markdown",
   "source": [
    "Splitting into train test ratio with 80% for training and 20% for testing with stratifying 'y' meaning balancing the number of 0's and 1 in test data"
   ],
   "metadata": {
    "collapsed": false,
    "pycharm": {
     "name": "#%% md\n"
    }
   }
  },
  {
   "cell_type": "code",
   "execution_count": 11,
   "outputs": [],
   "source": [
    "x_train, x_test, y_train, y_test = train_test_split(x, y,train_size = 0.8, test_size = 0.2, random_state = 0,stratify = y)"
   ],
   "metadata": {
    "collapsed": false,
    "pycharm": {
     "name": "#%%\n"
    }
   }
  },
  {
   "cell_type": "code",
   "execution_count": 12,
   "outputs": [
    {
     "data": {
      "text/plain": "(5265226, 115)"
     },
     "execution_count": 12,
     "metadata": {},
     "output_type": "execute_result"
    }
   ],
   "source": [
    "x_train.shape"
   ],
   "metadata": {
    "collapsed": false,
    "pycharm": {
     "name": "#%%\n"
    }
   }
  },
  {
   "cell_type": "code",
   "execution_count": 13,
   "outputs": [
    {
     "data": {
      "text/plain": "(1316307, 115)"
     },
     "execution_count": 13,
     "metadata": {},
     "output_type": "execute_result"
    }
   ],
   "source": [
    "x_test.shape"
   ],
   "metadata": {
    "collapsed": false,
    "pycharm": {
     "name": "#%%\n"
    }
   }
  },
  {
   "cell_type": "code",
   "execution_count": 14,
   "outputs": [
    {
     "data": {
      "text/plain": "(5265226, 1)"
     },
     "execution_count": 14,
     "metadata": {},
     "output_type": "execute_result"
    }
   ],
   "source": [
    "y_train.shape"
   ],
   "metadata": {
    "collapsed": false,
    "pycharm": {
     "name": "#%%\n"
    }
   }
  },
  {
   "cell_type": "code",
   "execution_count": 15,
   "outputs": [
    {
     "data": {
      "text/plain": "(1316307, 1)"
     },
     "execution_count": 15,
     "metadata": {},
     "output_type": "execute_result"
    }
   ],
   "source": [
    "y_test.shape"
   ],
   "metadata": {
    "collapsed": false,
    "pycharm": {
     "name": "#%%\n"
    }
   }
  },
  {
   "cell_type": "code",
   "execution_count": 16,
   "outputs": [
    {
     "name": "stdout",
     "output_type": "stream",
     "text": [
      "Number of 0's and 1's in y_train dataset:\n",
      "0    3197325\n",
      "1    2067901\n",
      "Name: x, dtype: int64\n"
     ]
    }
   ],
   "source": [
    "print(\"Number of 0's and 1's in y_train dataset:\")\n",
    "print(y_train['x'].value_counts())"
   ],
   "metadata": {
    "collapsed": false,
    "pycharm": {
     "name": "#%%\n"
    }
   }
  },
  {
   "cell_type": "code",
   "execution_count": 17,
   "outputs": [
    {
     "name": "stdout",
     "output_type": "stream",
     "text": [
      "Number of 0's and 1's in y_test dataset:\n",
      "0    799332\n",
      "1    516975\n",
      "Name: x, dtype: int64\n"
     ]
    }
   ],
   "source": [
    "print(\"Number of 0's and 1's in y_test dataset:\")\n",
    "print(y_test['x'].value_counts())"
   ],
   "metadata": {
    "collapsed": false,
    "pycharm": {
     "name": "#%%\n"
    }
   }
  },
  {
   "cell_type": "markdown",
   "source": [
    "Fitting the data"
   ],
   "metadata": {
    "collapsed": false,
    "pycharm": {
     "name": "#%% md\n"
    }
   }
  },
  {
   "cell_type": "code",
   "execution_count": 18,
   "outputs": [
    {
     "data": {
      "text/plain": "DecisionTreeClassifier(random_state=42)",
      "text/html": "<style>#sk-container-id-1 {color: black;background-color: white;}#sk-container-id-1 pre{padding: 0;}#sk-container-id-1 div.sk-toggleable {background-color: white;}#sk-container-id-1 label.sk-toggleable__label {cursor: pointer;display: block;width: 100%;margin-bottom: 0;padding: 0.3em;box-sizing: border-box;text-align: center;}#sk-container-id-1 label.sk-toggleable__label-arrow:before {content: \"▸\";float: left;margin-right: 0.25em;color: #696969;}#sk-container-id-1 label.sk-toggleable__label-arrow:hover:before {color: black;}#sk-container-id-1 div.sk-estimator:hover label.sk-toggleable__label-arrow:before {color: black;}#sk-container-id-1 div.sk-toggleable__content {max-height: 0;max-width: 0;overflow: hidden;text-align: left;background-color: #f0f8ff;}#sk-container-id-1 div.sk-toggleable__content pre {margin: 0.2em;color: black;border-radius: 0.25em;background-color: #f0f8ff;}#sk-container-id-1 input.sk-toggleable__control:checked~div.sk-toggleable__content {max-height: 200px;max-width: 100%;overflow: auto;}#sk-container-id-1 input.sk-toggleable__control:checked~label.sk-toggleable__label-arrow:before {content: \"▾\";}#sk-container-id-1 div.sk-estimator input.sk-toggleable__control:checked~label.sk-toggleable__label {background-color: #d4ebff;}#sk-container-id-1 div.sk-label input.sk-toggleable__control:checked~label.sk-toggleable__label {background-color: #d4ebff;}#sk-container-id-1 input.sk-hidden--visually {border: 0;clip: rect(1px 1px 1px 1px);clip: rect(1px, 1px, 1px, 1px);height: 1px;margin: -1px;overflow: hidden;padding: 0;position: absolute;width: 1px;}#sk-container-id-1 div.sk-estimator {font-family: monospace;background-color: #f0f8ff;border: 1px dotted black;border-radius: 0.25em;box-sizing: border-box;margin-bottom: 0.5em;}#sk-container-id-1 div.sk-estimator:hover {background-color: #d4ebff;}#sk-container-id-1 div.sk-parallel-item::after {content: \"\";width: 100%;border-bottom: 1px solid gray;flex-grow: 1;}#sk-container-id-1 div.sk-label:hover label.sk-toggleable__label {background-color: #d4ebff;}#sk-container-id-1 div.sk-serial::before {content: \"\";position: absolute;border-left: 1px solid gray;box-sizing: border-box;top: 0;bottom: 0;left: 50%;z-index: 0;}#sk-container-id-1 div.sk-serial {display: flex;flex-direction: column;align-items: center;background-color: white;padding-right: 0.2em;padding-left: 0.2em;position: relative;}#sk-container-id-1 div.sk-item {position: relative;z-index: 1;}#sk-container-id-1 div.sk-parallel {display: flex;align-items: stretch;justify-content: center;background-color: white;position: relative;}#sk-container-id-1 div.sk-item::before, #sk-container-id-1 div.sk-parallel-item::before {content: \"\";position: absolute;border-left: 1px solid gray;box-sizing: border-box;top: 0;bottom: 0;left: 50%;z-index: -1;}#sk-container-id-1 div.sk-parallel-item {display: flex;flex-direction: column;z-index: 1;position: relative;background-color: white;}#sk-container-id-1 div.sk-parallel-item:first-child::after {align-self: flex-end;width: 50%;}#sk-container-id-1 div.sk-parallel-item:last-child::after {align-self: flex-start;width: 50%;}#sk-container-id-1 div.sk-parallel-item:only-child::after {width: 0;}#sk-container-id-1 div.sk-dashed-wrapped {border: 1px dashed gray;margin: 0 0.4em 0.5em 0.4em;box-sizing: border-box;padding-bottom: 0.4em;background-color: white;}#sk-container-id-1 div.sk-label label {font-family: monospace;font-weight: bold;display: inline-block;line-height: 1.2em;}#sk-container-id-1 div.sk-label-container {text-align: center;}#sk-container-id-1 div.sk-container {/* jupyter's `normalize.less` sets `[hidden] { display: none; }` but bootstrap.min.css set `[hidden] { display: none !important; }` so we also need the `!important` here to be able to override the default hidden behavior on the sphinx rendered scikit-learn.org. See: https://github.com/scikit-learn/scikit-learn/issues/21755 */display: inline-block !important;position: relative;}#sk-container-id-1 div.sk-text-repr-fallback {display: none;}</style><div id=\"sk-container-id-1\" class=\"sk-top-container\"><div class=\"sk-text-repr-fallback\"><pre>DecisionTreeClassifier(random_state=42)</pre><b>In a Jupyter environment, please rerun this cell to show the HTML representation or trust the notebook. <br />On GitHub, the HTML representation is unable to render, please try loading this page with nbviewer.org.</b></div><div class=\"sk-container\" hidden><div class=\"sk-item\"><div class=\"sk-estimator sk-toggleable\"><input class=\"sk-toggleable__control sk-hidden--visually\" id=\"sk-estimator-id-1\" type=\"checkbox\" checked><label for=\"sk-estimator-id-1\" class=\"sk-toggleable__label sk-toggleable__label-arrow\">DecisionTreeClassifier</label><div class=\"sk-toggleable__content\"><pre>DecisionTreeClassifier(random_state=42)</pre></div></div></div></div></div>"
     },
     "execution_count": 18,
     "metadata": {},
     "output_type": "execute_result"
    }
   ],
   "source": [
    "dt = DecisionTreeClassifier(criterion='gini', splitter='best', max_depth=None, min_samples_split=2, min_samples_leaf=1, min_weight_fraction_leaf=0.0, max_features=None, random_state=42, max_leaf_nodes=None, min_impurity_decrease=0.0, class_weight=None, ccp_alpha=0.0)\n",
    "dt.fit(x_train,y_train)"
   ],
   "metadata": {
    "collapsed": false,
    "pycharm": {
     "name": "#%%\n"
    }
   }
  },
  {
   "cell_type": "code",
   "execution_count": 19,
   "outputs": [],
   "source": [
    "dt_score=dt.score(x_test,y_test)\n",
    "y_tr_pred=dt.predict(x_train)\n",
    "y_predict=dt.predict(x_test)\n",
    "y_true=y_test"
   ],
   "metadata": {
    "collapsed": false,
    "pycharm": {
     "name": "#%%\n"
    }
   }
  },
  {
   "cell_type": "markdown",
   "source": [
    "Getting detailed report of all metrics for Train data and Test data"
   ],
   "metadata": {
    "collapsed": false,
    "pycharm": {
     "name": "#%% md\n"
    }
   }
  },
  {
   "cell_type": "code",
   "execution_count": 20,
   "outputs": [
    {
     "name": "stdout",
     "output_type": "stream",
     "text": [
      "\n",
      "TRAINING DATA:\n",
      "              precision    recall  f1-score   support\n",
      "\n",
      "      normal       1.00      1.00      1.00   3197325\n",
      "    malicous       1.00      1.00      1.00   2067901\n",
      "\n",
      "    accuracy                           1.00   5265226\n",
      "   macro avg       1.00      1.00      1.00   5265226\n",
      "weighted avg       1.00      1.00      1.00   5265226\n",
      "\n",
      "1.0\n",
      "\n",
      "TEST DATA:\n",
      "              precision    recall  f1-score   support\n",
      "\n",
      "      normal       1.00      1.00      1.00    799332\n",
      "    malicous       1.00      1.00      1.00    516975\n",
      "\n",
      "    accuracy                           1.00   1316307\n",
      "   macro avg       1.00      1.00      1.00   1316307\n",
      "weighted avg       1.00      1.00      1.00   1316307\n",
      "\n",
      "0.9999878447808908\n"
     ]
    }
   ],
   "source": [
    "from sklearn import metrics\n",
    "print(\"\\nTRAINING DATA:\")\n",
    "print(classification_report(y_train, y_tr_pred, target_names=['normal', 'malicous']))\n",
    "print(metrics.accuracy_score(y_train, y_tr_pred))\n",
    "\n",
    "print(\"\\nTEST DATA:\")\n",
    "print(classification_report(y_test, y_predict, target_names=['normal', 'malicous']))\n",
    "print(metrics.accuracy_score(y_test, y_predict))"
   ],
   "metadata": {
    "collapsed": false,
    "pycharm": {
     "name": "#%%\n"
    }
   }
  },
  {
   "cell_type": "code",
   "execution_count": 21,
   "outputs": [
    {
     "name": "stdout",
     "output_type": "stream",
     "text": [
      "Log-loss function on training data =  9.99200722162641e-16\n",
      "Log-loss function on testing data =  0.00041983429176208786\n"
     ]
    }
   ],
   "source": [
    "from sklearn.metrics import log_loss\n",
    "print('Log-loss function on training data = ',log_loss(y_train,y_tr_pred))\n",
    "print('Log-loss function on testing data = ',log_loss(y_test,y_predict))"
   ],
   "metadata": {
    "collapsed": false,
    "pycharm": {
     "name": "#%%\n"
    }
   }
  },
  {
   "cell_type": "markdown",
   "source": [
    "Getting confusion matrix and value count for 0's (benign) 1's (attack) for training and test data"
   ],
   "metadata": {
    "collapsed": false,
    "pycharm": {
     "name": "#%% md\n"
    }
   }
  },
  {
   "cell_type": "code",
   "execution_count": 22,
   "outputs": [
    {
     "name": "stdout",
     "output_type": "stream",
     "text": [
      "Number of 0's and 1's in y_train dataset:\n",
      "0    3197325\n",
      "1    2067901\n",
      "Name: x, dtype: int64\n",
      "\n",
      "CONFUSION MATRIX FOR TRAINING SET: \n",
      " [[3197325       0]\n",
      " [      0 2067901]]\n",
      "\n",
      "Number of 0's and 1's in y_test dataset:\n",
      "0    799332\n",
      "1    516975\n",
      "Name: x, dtype: int64\n",
      "\n",
      "CONFUSION MATRIX FOR TESTING SET: \n",
      " [[799319     13]\n",
      " [     3 516972]]\n"
     ]
    }
   ],
   "source": [
    "print(\"Number of 0's and 1's in y_train dataset:\")\n",
    "print(y_train['x'].value_counts())\n",
    "print(\"\\nCONFUSION MATRIX FOR TRAINING SET: \\n {}\".format(confusion_matrix(y_train, y_tr_pred)))\n",
    "\n",
    "print(\"\\nNumber of 0's and 1's in y_test dataset:\")\n",
    "print(y_test['x'].value_counts())\n",
    "print(\"\\nCONFUSION MATRIX FOR TESTING SET: \\n {}\".format(confusion_matrix(y_test, y_predict)))"
   ],
   "metadata": {
    "collapsed": false,
    "pycharm": {
     "name": "#%%\n"
    }
   }
  },
  {
   "cell_type": "markdown",
   "source": [
    "Visualizing the confusion matrix"
   ],
   "metadata": {
    "collapsed": false,
    "pycharm": {
     "name": "#%% md\n"
    }
   }
  },
  {
   "cell_type": "code",
   "execution_count": 23,
   "outputs": [
    {
     "data": {
      "text/plain": "<Figure size 500x500 with 2 Axes>",
      "image/png": "[encoded data removed]"
     },
     "metadata": {},
     "output_type": "display_data"
    }
   ],
   "source": [
    "cm=confusion_matrix(y_true,y_predict)\n",
    "f,ax=plt.subplots(figsize=(5,5))\n",
    "sns.heatmap(cm,annot=True,linewidth=0.5,linecolor=\"red\",fmt=\".0f\",ax=ax)\n",
    "plt.xlabel(\"y_pred\")\n",
    "plt.ylabel(\"y_true\")\n",
    "plt.show()"
   ],
   "metadata": {
    "collapsed": false,
    "pycharm": {
     "name": "#%%\n"
    }
   }
  },
  {
   "cell_type": "markdown",
   "source": [
    "Implementing Decision Tree with Cross Validation"
   ],
   "metadata": {
    "collapsed": false,
    "pycharm": {
     "name": "#%% md\n"
    }
   }
  },
  {
   "cell_type": "code",
   "execution_count": 11,
   "outputs": [],
   "source": [
    "from sklearn.model_selection import cross_validate\n",
    "_scoring = ['accuracy', 'precision', 'recall', 'f1']\n",
    "decisiontree=DecisionTreeClassifier(random_state=0)\n",
    "results = cross_validate(estimator=decisiontree,X=x,y=y,cv=3,scoring=_scoring,return_train_score=True)"
   ],
   "metadata": {
    "collapsed": false,
    "pycharm": {
     "name": "#%%\n"
    }
   }
  },
  {
   "cell_type": "code",
   "execution_count": 12,
   "outputs": [
    {
     "name": "stdout",
     "output_type": "stream",
     "text": [
      "\n",
      " TRAINING DATA METRICS:\n",
      "Training Accuracy scores: [1. 1. 1.]\n",
      "Mean Training Accuracy: 100.0\n",
      "Training precision scores: [1. 1. 1.]\n",
      "Mean Training precision: 1.0\n",
      "Training recall scores: [1. 1. 1.]\n",
      "Mean Training recall: 1.0\n",
      "Training F-1 scores: [1. 1. 1.]\n",
      "Mean Training F-1: 1.0\n",
      "\n",
      " TEST DATA METRICS:\n",
      "Test Accuracy scores: [0.67914461 0.92431595 0.98360002]\n",
      "Mean test Accuracy: 86.23535251147291\n",
      "Test precision scores: [0.55050528 0.99978588 0.95991662]\n",
      "Mean Test precision: 0.8367359288297368\n",
      "Test recall scores: [0.99760801 0.80746845 1.        ]\n",
      "Mean Test recall: 0.9350254857167132\n",
      "Test F-1 scores: [0.70949391 0.89339452 0.97954843]\n",
      "Mean Test F-1: 0.8608122852199199\n"
     ]
    }
   ],
   "source": [
    "print(\"\\n TRAINING DATA METRICS:\")\n",
    "print(\"Training Accuracy scores:\",results['train_accuracy'])\n",
    "print(\"Mean Training Accuracy:\",results['train_accuracy'].mean()*100)\n",
    "print(\"Training precision scores:\",results['train_precision'])\n",
    "print(\"Mean Training precision:\",results['train_precision'].mean())\n",
    "print(\"Training recall scores:\",results['train_recall'])\n",
    "print(\"Mean Training recall:\",results['train_recall'].mean())\n",
    "print(\"Training F-1 scores:\",results['train_f1'])\n",
    "print(\"Mean Training F-1:\",results['train_f1'].mean())\n",
    "\n",
    "print(\"\\n TEST DATA METRICS:\")\n",
    "print(\"Test Accuracy scores:\",results['test_accuracy'])\n",
    "print(\"Mean test Accuracy:\",results['test_accuracy'].mean()*100)\n",
    "print(\"Test precision scores:\",results['test_precision'])\n",
    "print(\"Mean Test precision:\",results['test_precision'].mean())\n",
    "print(\"Test recall scores:\",results['test_recall'])\n",
    "print(\"Mean Test recall:\",results['test_recall'].mean())\n",
    "print(\"Test F-1 scores:\",results['test_f1'])\n",
    "print(\"Mean Test F-1:\",results['test_f1'].mean())"
   ],
   "metadata": {
    "collapsed": false,
    "pycharm": {
     "name": "#%%\n"
    }
   }
  },
  {
   "cell_type": "markdown",
   "source": [
    "For 70:30 ratio"
   ],
   "metadata": {
    "collapsed": false,
    "pycharm": {
     "name": "#%% md\n"
    }
   }
  },
  {
   "cell_type": "code",
   "execution_count": 24,
   "outputs": [],
   "source": [
    "x_train, x_test, y_train, y_test = train_test_split(x, y,train_size = 0.7, test_size = 0.3, random_state = 0,stratify = y)"
   ],
   "metadata": {
    "collapsed": false,
    "pycharm": {
     "name": "#%%\n"
    }
   }
  },
  {
   "cell_type": "code",
   "execution_count": 25,
   "outputs": [
    {
     "name": "stdout",
     "output_type": "stream",
     "text": [
      "Number of 0's and 1's in y_train dataset:\n",
      "0    2797660\n",
      "1    1809413\n",
      "Name: x, dtype: int64\n"
     ]
    }
   ],
   "source": [
    "print(\"Number of 0's and 1's in y_train dataset:\")\n",
    "print(y_train['x'].value_counts())"
   ],
   "metadata": {
    "collapsed": false,
    "pycharm": {
     "name": "#%%\n"
    }
   }
  },
  {
   "cell_type": "code",
   "execution_count": 26,
   "outputs": [
    {
     "name": "stdout",
     "output_type": "stream",
     "text": [
      "Number of 0's and 1's in y_test dataset:\n",
      "0    1198997\n",
      "1     775463\n",
      "Name: x, dtype: int64\n"
     ]
    }
   ],
   "source": [
    "print(\"Number of 0's and 1's in y_test dataset:\")\n",
    "print(y_test['x'].value_counts())"
   ],
   "metadata": {
    "collapsed": false,
    "pycharm": {
     "name": "#%%\n"
    }
   }
  },
  {
   "cell_type": "code",
   "execution_count": 27,
   "outputs": [
    {
     "data": {
      "text/plain": "DecisionTreeClassifier(random_state=42)",
      "text/html": "<style>#sk-container-id-2 {color: black;background-color: white;}#sk-container-id-2 pre{padding: 0;}#sk-container-id-2 div.sk-toggleable {background-color: white;}#sk-container-id-2 label.sk-toggleable__label {cursor: pointer;display: block;width: 100%;margin-bottom: 0;padding: 0.3em;box-sizing: border-box;text-align: center;}#sk-container-id-2 label.sk-toggleable__label-arrow:before {content: \"▸\";float: left;margin-right: 0.25em;color: #696969;}#sk-container-id-2 label.sk-toggleable__label-arrow:hover:before {color: black;}#sk-container-id-2 div.sk-estimator:hover label.sk-toggleable__label-arrow:before {color: black;}#sk-container-id-2 div.sk-toggleable__content {max-height: 0;max-width: 0;overflow: hidden;text-align: left;background-color: #f0f8ff;}#sk-container-id-2 div.sk-toggleable__content pre {margin: 0.2em;color: black;border-radius: 0.25em;background-color: #f0f8ff;}#sk-container-id-2 input.sk-toggleable__control:checked~div.sk-toggleable__content {max-height: 200px;max-width: 100%;overflow: auto;}#sk-container-id-2 input.sk-toggleable__control:checked~label.sk-toggleable__label-arrow:before {content: \"▾\";}#sk-container-id-2 div.sk-estimator input.sk-toggleable__control:checked~label.sk-toggleable__label {background-color: #d4ebff;}#sk-container-id-2 div.sk-label input.sk-toggleable__control:checked~label.sk-toggleable__label {background-color: #d4ebff;}#sk-container-id-2 input.sk-hidden--visually {border: 0;clip: rect(1px 1px 1px 1px);clip: rect(1px, 1px, 1px, 1px);height: 1px;margin: -1px;overflow: hidden;padding: 0;position: absolute;width: 1px;}#sk-container-id-2 div.sk-estimator {font-family: monospace;background-color: #f0f8ff;border: 1px dotted black;border-radius: 0.25em;box-sizing: border-box;margin-bottom: 0.5em;}#sk-container-id-2 div.sk-estimator:hover {background-color: #d4ebff;}#sk-container-id-2 div.sk-parallel-item::after {content: \"\";width: 100%;border-bottom: 1px solid gray;flex-grow: 1;}#sk-container-id-2 div.sk-label:hover label.sk-toggleable__label {background-color: #d4ebff;}#sk-container-id-2 div.sk-serial::before {content: \"\";position: absolute;border-left: 1px solid gray;box-sizing: border-box;top: 0;bottom: 0;left: 50%;z-index: 0;}#sk-container-id-2 div.sk-serial {display: flex;flex-direction: column;align-items: center;background-color: white;padding-right: 0.2em;padding-left: 0.2em;position: relative;}#sk-container-id-2 div.sk-item {position: relative;z-index: 1;}#sk-container-id-2 div.sk-parallel {display: flex;align-items: stretch;justify-content: center;background-color: white;position: relative;}#sk-container-id-2 div.sk-item::before, #sk-container-id-2 div.sk-parallel-item::before {content: \"\";position: absolute;border-left: 1px solid gray;box-sizing: border-box;top: 0;bottom: 0;left: 50%;z-index: -1;}#sk-container-id-2 div.sk-parallel-item {display: flex;flex-direction: column;z-index: 1;position: relative;background-color: white;}#sk-container-id-2 div.sk-parallel-item:first-child::after {align-self: flex-end;width: 50%;}#sk-container-id-2 div.sk-parallel-item:last-child::after {align-self: flex-start;width: 50%;}#sk-container-id-2 div.sk-parallel-item:only-child::after {width: 0;}#sk-container-id-2 div.sk-dashed-wrapped {border: 1px dashed gray;margin: 0 0.4em 0.5em 0.4em;box-sizing: border-box;padding-bottom: 0.4em;background-color: white;}#sk-container-id-2 div.sk-label label {font-family: monospace;font-weight: bold;display: inline-block;line-height: 1.2em;}#sk-container-id-2 div.sk-label-container {text-align: center;}#sk-container-id-2 div.sk-container {/* jupyter's `normalize.less` sets `[hidden] { display: none; }` but bootstrap.min.css set `[hidden] { display: none !important; }` so we also need the `!important` here to be able to override the default hidden behavior on the sphinx rendered scikit-learn.org. See: https://github.com/scikit-learn/scikit-learn/issues/21755 */display: inline-block !important;position: relative;}#sk-container-id-2 div.sk-text-repr-fallback {display: none;}</style><div id=\"sk-container-id-2\" class=\"sk-top-container\"><div class=\"sk-text-repr-fallback\"><pre>DecisionTreeClassifier(random_state=42)</pre><b>In a Jupyter environment, please rerun this cell to show the HTML representation or trust the notebook. <br />On GitHub, the HTML representation is unable to render, please try loading this page with nbviewer.org.</b></div><div class=\"sk-container\" hidden><div class=\"sk-item\"><div class=\"sk-estimator sk-toggleable\"><input class=\"sk-toggleable__control sk-hidden--visually\" id=\"sk-estimator-id-2\" type=\"checkbox\" checked><label for=\"sk-estimator-id-2\" class=\"sk-toggleable__label sk-toggleable__label-arrow\">DecisionTreeClassifier</label><div class=\"sk-toggleable__content\"><pre>DecisionTreeClassifier(random_state=42)</pre></div></div></div></div></div>"
     },
     "execution_count": 27,
     "metadata": {},
     "output_type": "execute_result"
    }
   ],
   "source": [
    "dt = DecisionTreeClassifier(criterion='gini', splitter='best', max_depth=None, min_samples_split=2, min_samples_leaf=1, min_weight_fraction_leaf=0.0, max_features=None, random_state=42, max_leaf_nodes=None, min_impurity_decrease=0.0, class_weight=None, ccp_alpha=0.0)\n",
    "dt.fit(x_train,y_train)"
   ],
   "metadata": {
    "collapsed": false,
    "pycharm": {
     "name": "#%%\n"
    }
   }
  },
  {
   "cell_type": "code",
   "execution_count": 28,
   "outputs": [],
   "source": [
    "dt_score=dt.score(x_test,y_test)\n",
    "y_tr_pred=dt.predict(x_train)\n",
    "y_predict=dt.predict(x_test)\n",
    "y_true=y_test"
   ],
   "metadata": {
    "collapsed": false,
    "pycharm": {
     "name": "#%%\n"
    }
   }
  },
  {
   "cell_type": "code",
   "execution_count": 29,
   "outputs": [
    {
     "name": "stdout",
     "output_type": "stream",
     "text": [
      "\n",
      "TRAINING DATA:\n",
      "              precision    recall  f1-score   support\n",
      "\n",
      "      normal       1.00      1.00      1.00   2797660\n",
      "    malicous       1.00      1.00      1.00   1809413\n",
      "\n",
      "    accuracy                           1.00   4607073\n",
      "   macro avg       1.00      1.00      1.00   4607073\n",
      "weighted avg       1.00      1.00      1.00   4607073\n",
      "\n",
      "1.0\n",
      "\n",
      "TEST DATA:\n",
      "              precision    recall  f1-score   support\n",
      "\n",
      "      normal       1.00      1.00      1.00   1198997\n",
      "    malicous       1.00      1.00      1.00    775463\n",
      "\n",
      "    accuracy                           1.00   1974460\n",
      "   macro avg       1.00      1.00      1.00   1974460\n",
      "weighted avg       1.00      1.00      1.00   1974460\n",
      "\n",
      "0.9999868318426304\n"
     ]
    }
   ],
   "source": [
    "from sklearn import metrics\n",
    "print(\"\\nTRAINING DATA:\")\n",
    "print(classification_report(y_train, y_tr_pred, target_names=['normal', 'malicous']))\n",
    "print(metrics.accuracy_score(y_train, y_tr_pred))\n",
    "\n",
    "print(\"\\nTEST DATA:\")\n",
    "print(classification_report(y_test, y_predict, target_names=['normal', 'malicous']))\n",
    "print(metrics.accuracy_score(y_test, y_predict))"
   ],
   "metadata": {
    "collapsed": false,
    "pycharm": {
     "name": "#%%\n"
    }
   }
  },
  {
   "cell_type": "code",
   "execution_count": 30,
   "outputs": [
    {
     "name": "stdout",
     "output_type": "stream",
     "text": [
      "Log-loss function on training data =  9.99200722162641e-16\n",
      "Log-loss function on testing data =  0.00045481933238626963\n"
     ]
    }
   ],
   "source": [
    "from sklearn.metrics import log_loss\n",
    "print('Log-loss function on training data = ',log_loss(y_train,y_tr_pred))\n",
    "print('Log-loss function on testing data = ',log_loss(y_test,y_predict))"
   ],
   "metadata": {
    "collapsed": false,
    "pycharm": {
     "name": "#%%\n"
    }
   }
  },
  {
   "cell_type": "code",
   "execution_count": 31,
   "outputs": [
    {
     "name": "stdout",
     "output_type": "stream",
     "text": [
      "Number of 0's and 1's in y_train dataset:\n",
      "0    2797660\n",
      "1    1809413\n",
      "Name: x, dtype: int64\n",
      "\n",
      "CONFUSION MATRIX FOR TRAINING SET: \n",
      " [[2797660       0]\n",
      " [      0 1809413]]\n",
      "\n",
      "Number of 0's and 1's in y_test dataset:\n",
      "0    1198997\n",
      "1     775463\n",
      "Name: x, dtype: int64\n",
      "\n",
      "CONFUSION MATRIX FOR TESTING SET: \n",
      " [[1198979      18]\n",
      " [      8  775455]]\n"
     ]
    }
   ],
   "source": [
    "print(\"Number of 0's and 1's in y_train dataset:\")\n",
    "print(y_train['x'].value_counts())\n",
    "print(\"\\nCONFUSION MATRIX FOR TRAINING SET: \\n {}\".format(confusion_matrix(y_train, y_tr_pred)))\n",
    "\n",
    "print(\"\\nNumber of 0's and 1's in y_test dataset:\")\n",
    "print(y_test['x'].value_counts())\n",
    "print(\"\\nCONFUSION MATRIX FOR TESTING SET: \\n {}\".format(confusion_matrix(y_test, y_predict)))"
   ],
   "metadata": {
    "collapsed": false,
    "pycharm": {
     "name": "#%%\n"
    }
   }
  },
  {
   "cell_type": "code",
   "execution_count": 32,
   "outputs": [
    {
     "data": {
      "text/plain": "<Figure size 500x500 with 2 Axes>",
      "image/png": "[encoded data removed]"
     },
     "metadata": {},
     "output_type": "display_data"
    }
   ],
   "source": [
    "cm=confusion_matrix(y_true,y_predict)\n",
    "f,ax=plt.subplots(figsize=(5,5))\n",
    "sns.heatmap(cm,annot=True,linewidth=0.5,linecolor=\"red\",fmt=\".0f\",ax=ax)\n",
    "plt.xlabel(\"y_pred\")\n",
    "plt.ylabel(\"y_true\")\n",
    "plt.show()"
   ],
   "metadata": {
    "collapsed": false,
    "pycharm": {
     "name": "#%%\n"
    }
   }
  },
  {
   "cell_type": "markdown",
   "source": [
    "For 90:10 ratio"
   ],
   "metadata": {
    "collapsed": false,
    "pycharm": {
     "name": "#%% md\n"
    }
   }
  },
  {
   "cell_type": "code",
   "execution_count": 33,
   "outputs": [],
   "source": [
    "x_train, x_test, y_train, y_test = train_test_split(x, y,train_size = 0.9, test_size = 0.1, random_state = 0,stratify = y)"
   ],
   "metadata": {
    "collapsed": false,
    "pycharm": {
     "name": "#%%\n"
    }
   }
  },
  {
   "cell_type": "code",
   "execution_count": 34,
   "outputs": [
    {
     "name": "stdout",
     "output_type": "stream",
     "text": [
      "Number of 0's and 1's in y_train dataset:\n",
      "0    3596991\n",
      "1    2326388\n",
      "Name: x, dtype: int64\n"
     ]
    }
   ],
   "source": [
    "print(\"Number of 0's and 1's in y_train dataset:\")\n",
    "print(y_train['x'].value_counts())"
   ],
   "metadata": {
    "collapsed": false,
    "pycharm": {
     "name": "#%%\n"
    }
   }
  },
  {
   "cell_type": "code",
   "execution_count": 35,
   "outputs": [
    {
     "name": "stdout",
     "output_type": "stream",
     "text": [
      "Number of 0's and 1's in y_test dataset:\n",
      "0    399666\n",
      "1    258488\n",
      "Name: x, dtype: int64\n"
     ]
    }
   ],
   "source": [
    "print(\"Number of 0's and 1's in y_test dataset:\")\n",
    "print(y_test['x'].value_counts())"
   ],
   "metadata": {
    "collapsed": false,
    "pycharm": {
     "name": "#%%\n"
    }
   }
  },
  {
   "cell_type": "code",
   "execution_count": 36,
   "outputs": [
    {
     "data": {
      "text/plain": "DecisionTreeClassifier(random_state=42)",
      "text/html": "<style>#sk-container-id-3 {color: black;background-color: white;}#sk-container-id-3 pre{padding: 0;}#sk-container-id-3 div.sk-toggleable {background-color: white;}#sk-container-id-3 label.sk-toggleable__label {cursor: pointer;display: block;width: 100%;margin-bottom: 0;padding: 0.3em;box-sizing: border-box;text-align: center;}#sk-container-id-3 label.sk-toggleable__label-arrow:before {content: \"▸\";float: left;margin-right: 0.25em;color: #696969;}#sk-container-id-3 label.sk-toggleable__label-arrow:hover:before {color: black;}#sk-container-id-3 div.sk-estimator:hover label.sk-toggleable__label-arrow:before {color: black;}#sk-container-id-3 div.sk-toggleable__content {max-height: 0;max-width: 0;overflow: hidden;text-align: left;background-color: #f0f8ff;}#sk-container-id-3 div.sk-toggleable__content pre {margin: 0.2em;color: black;border-radius: 0.25em;background-color: #f0f8ff;}#sk-container-id-3 input.sk-toggleable__control:checked~div.sk-toggleable__content {max-height: 200px;max-width: 100%;overflow: auto;}#sk-container-id-3 input.sk-toggleable__control:checked~label.sk-toggleable__label-arrow:before {content: \"▾\";}#sk-container-id-3 div.sk-estimator input.sk-toggleable__control:checked~label.sk-toggleable__label {background-color: #d4ebff;}#sk-container-id-3 div.sk-label input.sk-toggleable__control:checked~label.sk-toggleable__label {background-color: #d4ebff;}#sk-container-id-3 input.sk-hidden--visually {border: 0;clip: rect(1px 1px 1px 1px);clip: rect(1px, 1px, 1px, 1px);height: 1px;margin: -1px;overflow: hidden;padding: 0;position: absolute;width: 1px;}#sk-container-id-3 div.sk-estimator {font-family: monospace;background-color: #f0f8ff;border: 1px dotted black;border-radius: 0.25em;box-sizing: border-box;margin-bottom: 0.5em;}#sk-container-id-3 div.sk-estimator:hover {background-color: #d4ebff;}#sk-container-id-3 div.sk-parallel-item::after {content: \"\";width: 100%;border-bottom: 1px solid gray;flex-grow: 1;}#sk-container-id-3 div.sk-label:hover label.sk-toggleable__label {background-color: #d4ebff;}#sk-container-id-3 div.sk-serial::before {content: \"\";position: absolute;border-left: 1px solid gray;box-sizing: border-box;top: 0;bottom: 0;left: 50%;z-index: 0;}#sk-container-id-3 div.sk-serial {display: flex;flex-direction: column;align-items: center;background-color: white;padding-right: 0.2em;padding-left: 0.2em;position: relative;}#sk-container-id-3 div.sk-item {position: relative;z-index: 1;}#sk-container-id-3 div.sk-parallel {display: flex;align-items: stretch;justify-content: center;background-color: white;position: relative;}#sk-container-id-3 div.sk-item::before, #sk-container-id-3 div.sk-parallel-item::before {content: \"\";position: absolute;border-left: 1px solid gray;box-sizing: border-box;top: 0;bottom: 0;left: 50%;z-index: -1;}#sk-container-id-3 div.sk-parallel-item {display: flex;flex-direction: column;z-index: 1;position: relative;background-color: white;}#sk-container-id-3 div.sk-parallel-item:first-child::after {align-self: flex-end;width: 50%;}#sk-container-id-3 div.sk-parallel-item:last-child::after {align-self: flex-start;width: 50%;}#sk-container-id-3 div.sk-parallel-item:only-child::after {width: 0;}#sk-container-id-3 div.sk-dashed-wrapped {border: 1px dashed gray;margin: 0 0.4em 0.5em 0.4em;box-sizing: border-box;padding-bottom: 0.4em;background-color: white;}#sk-container-id-3 div.sk-label label {font-family: monospace;font-weight: bold;display: inline-block;line-height: 1.2em;}#sk-container-id-3 div.sk-label-container {text-align: center;}#sk-container-id-3 div.sk-container {/* jupyter's `normalize.less` sets `[hidden] { display: none; }` but bootstrap.min.css set `[hidden] { display: none !important; }` so we also need the `!important` here to be able to override the default hidden behavior on the sphinx rendered scikit-learn.org. See: https://github.com/scikit-learn/scikit-learn/issues/21755 */display: inline-block !important;position: relative;}#sk-container-id-3 div.sk-text-repr-fallback {display: none;}</style><div id=\"sk-container-id-3\" class=\"sk-top-container\"><div class=\"sk-text-repr-fallback\"><pre>DecisionTreeClassifier(random_state=42)</pre><b>In a Jupyter environment, please rerun this cell to show the HTML representation or trust the notebook. <br />On GitHub, the HTML representation is unable to render, please try loading this page with nbviewer.org.</b></div><div class=\"sk-container\" hidden><div class=\"sk-item\"><div class=\"sk-estimator sk-toggleable\"><input class=\"sk-toggleable__control sk-hidden--visually\" id=\"sk-estimator-id-3\" type=\"checkbox\" checked><label for=\"sk-estimator-id-3\" class=\"sk-toggleable__label sk-toggleable__label-arrow\">DecisionTreeClassifier</label><div class=\"sk-toggleable__content\"><pre>DecisionTreeClassifier(random_state=42)</pre></div></div></div></div></div>"
     },
     "execution_count": 36,
     "metadata": {},
     "output_type": "execute_result"
    }
   ],
   "source": [
    "dt = DecisionTreeClassifier(criterion='gini', splitter='best', max_depth=None, min_samples_split=2, min_samples_leaf=1, min_weight_fraction_leaf=0.0, max_features=None, random_state=42, max_leaf_nodes=None, min_impurity_decrease=0.0, class_weight=None, ccp_alpha=0.0)\n",
    "dt.fit(x_train,y_train)"
   ],
   "metadata": {
    "collapsed": false,
    "pycharm": {
     "name": "#%%\n"
    }
   }
  },
  {
   "cell_type": "code",
   "execution_count": 37,
   "outputs": [],
   "source": [
    "dt_score=dt.score(x_test,y_test)\n",
    "y_tr_pred=dt.predict(x_train)\n",
    "y_predict=dt.predict(x_test)\n",
    "y_true=y_test"
   ],
   "metadata": {
    "collapsed": false,
    "pycharm": {
     "name": "#%%\n"
    }
   }
  },
  {
   "cell_type": "code",
   "execution_count": 38,
   "outputs": [
    {
     "name": "stdout",
     "output_type": "stream",
     "text": [
      "\n",
      "TRAINING DATA:\n",
      "              precision    recall  f1-score   support\n",
      "\n",
      "      normal       1.00      1.00      1.00   3596991\n",
      "    malicous       1.00      1.00      1.00   2326388\n",
      "\n",
      "    accuracy                           1.00   5923379\n",
      "   macro avg       1.00      1.00      1.00   5923379\n",
      "weighted avg       1.00      1.00      1.00   5923379\n",
      "\n",
      "1.0\n",
      "\n",
      "TEST DATA:\n",
      "              precision    recall  f1-score   support\n",
      "\n",
      "      normal       1.00      1.00      1.00    399666\n",
      "    malicous       1.00      1.00      1.00    258488\n",
      "\n",
      "    accuracy                           1.00    658154\n",
      "   macro avg       1.00      1.00      1.00    658154\n",
      "weighted avg       1.00      1.00      1.00    658154\n",
      "\n",
      "0.9999878447901251\n"
     ]
    }
   ],
   "source": [
    "from sklearn import metrics\n",
    "print(\"\\nTRAINING DATA:\")\n",
    "print(classification_report(y_train, y_tr_pred, target_names=['normal', 'malicous']))\n",
    "print(metrics.accuracy_score(y_train, y_tr_pred))\n",
    "\n",
    "print(\"\\nTEST DATA:\")\n",
    "print(classification_report(y_test, y_predict, target_names=['normal', 'malicous']))\n",
    "print(metrics.accuracy_score(y_test, y_predict))"
   ],
   "metadata": {
    "collapsed": false,
    "pycharm": {
     "name": "#%%\n"
    }
   }
  },
  {
   "cell_type": "code",
   "execution_count": 39,
   "outputs": [
    {
     "name": "stdout",
     "output_type": "stream",
     "text": [
      "Log-loss function on training data =  9.99200722162641e-16\n",
      "Log-loss function on testing data =  0.0004198309355404113\n"
     ]
    }
   ],
   "source": [
    "from sklearn.metrics import log_loss\n",
    "print('Log-loss function on training data = ',log_loss(y_train,y_tr_pred))\n",
    "print('Log-loss function on testing data = ',log_loss(y_test,y_predict))"
   ],
   "metadata": {
    "collapsed": false,
    "pycharm": {
     "name": "#%%\n"
    }
   }
  },
  {
   "cell_type": "code",
   "execution_count": 40,
   "outputs": [
    {
     "name": "stdout",
     "output_type": "stream",
     "text": [
      "Number of 0's and 1's in y_train dataset:\n",
      "0    3596991\n",
      "1    2326388\n",
      "Name: x, dtype: int64\n",
      "\n",
      "CONFUSION MATRIX FOR TRAINING SET: \n",
      " [[3596991       0]\n",
      " [      0 2326388]]\n",
      "\n",
      "Number of 0's and 1's in y_test dataset:\n",
      "0    399666\n",
      "1    258488\n",
      "Name: x, dtype: int64\n",
      "\n",
      "CONFUSION MATRIX FOR TESTING SET: \n",
      " [[399662      4]\n",
      " [     4 258484]]\n"
     ]
    }
   ],
   "source": [
    "print(\"Number of 0's and 1's in y_train dataset:\")\n",
    "print(y_train['x'].value_counts())\n",
    "print(\"\\nCONFUSION MATRIX FOR TRAINING SET: \\n {}\".format(confusion_matrix(y_train, y_tr_pred)))\n",
    "\n",
    "print(\"\\nNumber of 0's and 1's in y_test dataset:\")\n",
    "print(y_test['x'].value_counts())\n",
    "print(\"\\nCONFUSION MATRIX FOR TESTING SET: \\n {}\".format(confusion_matrix(y_test, y_predict)))"
   ],
   "metadata": {
    "collapsed": false,
    "pycharm": {
     "name": "#%%\n"
    }
   }
  },
  {
   "cell_type": "code",
   "execution_count": 41,
   "outputs": [
    {
     "data": {
      "text/plain": "<Figure size 500x500 with 2 Axes>",
      "image/png": "[encoded data removed]"
     },
     "metadata": {},
     "output_type": "display_data"
    }
   ],
   "source": [
    "cm=confusion_matrix(y_true,y_predict)\n",
    "f,ax=plt.subplots(figsize=(5,5))\n",
    "sns.heatmap(cm,annot=True,linewidth=0.5,linecolor=\"red\",fmt=\".0f\",ax=ax)\n",
    "plt.xlabel(\"y_pred\")\n",
    "plt.ylabel(\"y_true\")\n",
    "plt.show()"
   ],
   "metadata": {
    "collapsed": false,
    "pycharm": {
     "name": "#%%\n"
    }
   }
  },
  {
   "cell_type": "code",
   "execution_count": null,
   "outputs": [],
   "source": [],
   "metadata": {
    "collapsed": false,
    "pycharm": {
     "name": "#%%\n"
    }
   }
  }
 ],
 "metadata": {
  "kernelspec": {
   "display_name": "Python 3",
   "language": "python",
   "name": "python3"
  },
  "language_info": {
   "codemirror_mode": {
    "name": "ipython",
    "version": 2
   },
   "file_extension": ".py",
   "mimetype": "text/x-python",
   "name": "python",
   "nbconvert_exporter": "python",
   "pygments_lexer": "ipython2",
   "version": "2.7.6"
  }
 },
 "nbformat": 4,
 "nbformat_minor": 0
}